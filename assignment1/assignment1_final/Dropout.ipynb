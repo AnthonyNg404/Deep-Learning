{
  "nbformat": 4,
  "nbformat_minor": 0,
  "metadata": {
    "kernelspec": {
      "display_name": "Python 3",
      "language": "python",
      "name": "python3"
    },
    "language_info": {
      "codemirror_mode": {
        "name": "ipython",
        "version": 3
      },
      "file_extension": ".py",
      "mimetype": "text/x-python",
      "name": "python",
      "nbconvert_exporter": "python",
      "pygments_lexer": "ipython3",
      "version": "3.6.6"
    },
    "colab": {
      "name": "Dropout.ipynb",
      "provenance": []
    }
  },
  "cells": [
    {
      "cell_type": "markdown",
      "metadata": {
        "id": "Cw10N5th1wfR"
      },
      "source": [
        "# Dropout\n",
        "Dropout [1] is a technique for regularizing neural networks by randomly setting some features to zero during the forward pass. In this exercise you will implement a dropout layer and modify your fully-connected network to optionally use dropout.\n",
        "\n",
        "[1] Geoffrey E. Hinton et al, \"Improving neural networks by preventing co-adaptation of feature detectors\", arXiv 2012"
      ]
    },
    {
      "cell_type": "code",
      "metadata": {
        "colab": {
          "base_uri": "https://localhost:8080/"
        },
        "id": "BN5C7JRV1wfc",
        "outputId": "5ac84d28-b229-47bf-82b0-e641f47d52bf"
      },
      "source": [
        "# As usual, a bit of setup\n",
        "\n",
        "import time\n",
        "import numpy as np\n",
        "import matplotlib.pyplot as plt\n",
        "from deeplearning.classifiers.fc_net import *\n",
        "from deeplearning.data_utils import get_CIFAR10_data\n",
        "from deeplearning.gradient_check import eval_numerical_gradient, eval_numerical_gradient_array\n",
        "from deeplearning.solver import Solver\n",
        "\n",
        "%matplotlib inline\n",
        "plt.rcParams['figure.figsize'] = (10.0, 8.0) # set default size of plots\n",
        "plt.rcParams['image.interpolation'] = 'nearest'\n",
        "plt.rcParams['image.cmap'] = 'gray'\n",
        "\n",
        "# for auto-reloading external modules\n",
        "# see http://stackoverflow.com/questions/1907993/autoreload-of-modules-in-ipython\n",
        "%load_ext autoreload\n",
        "%autoreload 2\n",
        "\n",
        "def rel_error(x, y):\n",
        "    \"\"\" returns relative error \"\"\"\n",
        "    return np.max(np.abs(x - y) / (np.maximum(1e-8, np.abs(x) + np.abs(y))))"
      ],
      "execution_count": 18,
      "outputs": [
        {
          "output_type": "stream",
          "text": [
            "The autoreload extension is already loaded. To reload it, use:\n",
            "  %reload_ext autoreload\n"
          ],
          "name": "stdout"
        }
      ]
    },
    {
      "cell_type": "code",
      "metadata": {
        "colab": {
          "base_uri": "https://localhost:8080/"
        },
        "id": "ENr5sAxS1wff",
        "outputId": "e5b540d2-1d3a-4ec0-bffc-341f43787b53"
      },
      "source": [
        "# Load the (preprocessed) CIFAR10 data.\n",
        "\n",
        "data = get_CIFAR10_data()\n",
        "for k, v in data.items():\n",
        "    print ('%s: ' % k, v.shape)"
      ],
      "execution_count": 19,
      "outputs": [
        {
          "output_type": "stream",
          "text": [
            "deeplearning/datasets/cifar-10-batches-py/data_batch_1\n",
            "deeplearning/datasets/cifar-10-batches-py/data_batch_2\n",
            "deeplearning/datasets/cifar-10-batches-py/data_batch_3\n",
            "deeplearning/datasets/cifar-10-batches-py/data_batch_4\n",
            "deeplearning/datasets/cifar-10-batches-py/data_batch_5\n",
            "deeplearning/datasets/cifar-10-batches-py/test_batch\n",
            "X_train:  (49000, 3, 32, 32)\n",
            "y_train:  (49000,)\n",
            "X_val:  (1000, 3, 32, 32)\n",
            "y_val:  (1000,)\n",
            "X_test:  (1000, 3, 32, 32)\n",
            "y_test:  (1000,)\n"
          ],
          "name": "stdout"
        }
      ]
    },
    {
      "cell_type": "markdown",
      "metadata": {
        "id": "nhxVypQT1wff"
      },
      "source": [
        "# Dropout forward pass\n",
        "In the file `deeplearning/layers.py`, implement the forward pass for (inverted) dropout. Since dropout behaves differently during training and testing, make sure to implement the operation for both modes. Input means should be approximately the same as the output means at both train/test time.\n",
        "\n",
        "Once you have done so, run the cell below to test your implementation."
      ]
    },
    {
      "cell_type": "code",
      "metadata": {
        "colab": {
          "base_uri": "https://localhost:8080/"
        },
        "id": "FZb_bYU-1wfg",
        "outputId": "05d03862-ea27-483b-8043-18fa98987774"
      },
      "source": [
        "x = np.random.randn(500, 500) + 10\n",
        "\n",
        "for p in [0.3, 0.6, 0.75]:\n",
        "    out, _ = dropout_forward(x, {'mode': 'train', 'p': p})\n",
        "    out_test, _ = dropout_forward(x, {'mode': 'test', 'p': p})\n",
        "\n",
        "    print ('Running tests with p = ', p)\n",
        "    print ('Mean of input: ', x.mean())\n",
        "    print ('Mean of train-time output: ', out.mean())\n",
        "    print ('Mean of test-time output: ', out_test.mean())\n",
        "    print ('Fraction of train-time output set to zero: ', (out == 0).mean())\n",
        "    print ('Fraction of test-time output set to zero: ', (out_test == 0).mean())\n",
        "    print"
      ],
      "execution_count": 20,
      "outputs": [
        {
          "output_type": "stream",
          "text": [
            "Running tests with p =  0.3\n",
            "Mean of input:  10.002534382361851\n",
            "Mean of train-time output:  9.990631639819217\n",
            "Mean of test-time output:  10.002534382361851\n",
            "Fraction of train-time output set to zero:  0.300952\n",
            "Fraction of test-time output set to zero:  0.0\n",
            "Running tests with p =  0.6\n",
            "Mean of input:  10.002534382361851\n",
            "Mean of train-time output:  10.012783863434342\n",
            "Mean of test-time output:  10.002534382361851\n",
            "Fraction of train-time output set to zero:  0.599484\n",
            "Fraction of test-time output set to zero:  0.0\n",
            "Running tests with p =  0.75\n",
            "Mean of input:  10.002534382361851\n",
            "Mean of train-time output:  10.031517194044115\n",
            "Mean of test-time output:  10.002534382361851\n",
            "Fraction of train-time output set to zero:  0.7493\n",
            "Fraction of test-time output set to zero:  0.0\n"
          ],
          "name": "stdout"
        }
      ]
    },
    {
      "cell_type": "markdown",
      "metadata": {
        "id": "a4Z_JRw71wfh"
      },
      "source": [
        "# Dropout backward pass\n",
        "In the file `deeplearning/layers.py`, implement the backward pass for dropout. After doing so, run the following cell to numerically gradient-check your implementation."
      ]
    },
    {
      "cell_type": "code",
      "metadata": {
        "colab": {
          "base_uri": "https://localhost:8080/"
        },
        "id": "jfdy25rN1wfh",
        "outputId": "b2e80afe-df60-4c80-b298-0c1d4926c61f"
      },
      "source": [
        "x = np.random.randn(10, 10) + 10\n",
        "dout = np.random.randn(*x.shape)\n",
        "\n",
        "dropout_param = {'mode': 'train', 'p': 0.8, 'seed': 123}\n",
        "out, cache = dropout_forward(x, dropout_param)\n",
        "dx = dropout_backward(dout, cache)\n",
        "dx_num = eval_numerical_gradient_array(lambda xx: dropout_forward(xx, dropout_param)[0], x, dout)\n",
        "\n",
        "print ('dx relative error: ', rel_error(dx, dx_num))"
      ],
      "execution_count": 21,
      "outputs": [
        {
          "output_type": "stream",
          "text": [
            "dx relative error:  1.8929044170779603e-11\n"
          ],
          "name": "stdout"
        }
      ]
    },
    {
      "cell_type": "markdown",
      "metadata": {
        "id": "IWJTqaoq1wfi"
      },
      "source": [
        "# Fully-connected nets with Dropout\n",
        "In the file `deeplearning/classifiers/fc_net.py`, modify your implementation to use dropout. Specificially, if the constructor the the net receives a nonzero value for the `dropout` parameter, then the net should add dropout immediately after every ReLU nonlinearity. After doing so, run the following to numerically gradient-check your implementation."
      ]
    },
    {
      "cell_type": "code",
      "metadata": {
        "colab": {
          "base_uri": "https://localhost:8080/"
        },
        "id": "khQ1UpCO1wfi",
        "outputId": "beb22cde-422d-4847-c51a-2b7ea096b800"
      },
      "source": [
        "N, D, H1, H2, C = 2, 15, 20, 30, 10\n",
        "np.random.seed(124)\n",
        "X = np.random.randn(N, D)\n",
        "y = np.random.randint(C, size=(N,))\n",
        "\n",
        "for dropout in [0, 0.25, 0.5]:\n",
        "    print ('Running check with dropout = ', dropout)\n",
        "    model = FullyConnectedNet([H1, H2], input_dim=D, num_classes=C,\n",
        "                            weight_scale=5e-2, dtype=np.float64,\n",
        "                            dropout=dropout, seed=123)\n",
        "    \n",
        "    loss, grads = model.loss(X, y)\n",
        "    print ('Initial loss: ', loss)\n",
        "\n",
        "    for name in sorted(grads):\n",
        "        f = lambda _: model.loss(X, y)[0]\n",
        "        grad_num = eval_numerical_gradient(f, model.params[name], verbose=False, h=1e-5)\n",
        "        print ('%s relative error: %.2e' % (name, rel_error(grad_num, grads[name])))\n",
        "    print"
      ],
      "execution_count": 22,
      "outputs": [
        {
          "output_type": "stream",
          "text": [
            "Running check with dropout =  0\n",
            "Initial loss:  2.299032598417055\n",
            "W1 relative error: 8.86e-07\n",
            "W2 relative error: 8.60e-07\n",
            "W3 relative error: 5.69e-08\n",
            "b1 relative error: 1.69e-08\n",
            "b2 relative error: 6.21e-08\n",
            "b3 relative error: 5.10e-11\n",
            "Running check with dropout =  0.25\n",
            "Initial loss:  2.304671727200951\n",
            "W1 relative error: 4.88e-08\n",
            "W2 relative error: 9.54e-06\n",
            "W3 relative error: 9.33e-08\n",
            "b1 relative error: 5.14e-09\n",
            "b2 relative error: 4.43e-08\n",
            "b3 relative error: 7.35e-11\n",
            "Running check with dropout =  0.5\n",
            "Initial loss:  2.2997829955406677\n",
            "W1 relative error: 3.88e-08\n",
            "W2 relative error: 1.54e-07\n",
            "W3 relative error: 1.49e-08\n",
            "b1 relative error: 5.32e-09\n",
            "b2 relative error: 1.10e-09\n",
            "b3 relative error: 1.16e-10\n"
          ],
          "name": "stdout"
        }
      ]
    },
    {
      "cell_type": "markdown",
      "metadata": {
        "id": "26TwMZjb1wfj"
      },
      "source": [
        "# Regularization experiment\n",
        "As an experiment, we will train a pair of two-layer networks on 500 training examples: one will use no dropout, and one will use a dropout probability of 0.75. We will then visualize the training and validation accuracies of the two networks over time."
      ]
    },
    {
      "cell_type": "code",
      "metadata": {
        "scrolled": false,
        "colab": {
          "base_uri": "https://localhost:8080/"
        },
        "id": "fRELWHmY1wfk",
        "outputId": "e0b80411-1681-4103-e92e-d7b0e44a9e26"
      },
      "source": [
        "# Train two identical nets, one with dropout and one without\n",
        "\n",
        "num_train = 500\n",
        "small_data = {\n",
        "  'X_train': data['X_train'][:num_train],\n",
        "  'y_train': data['y_train'][:num_train],\n",
        "  'X_val': data['X_val'],\n",
        "  'y_val': data['y_val'],\n",
        "}\n",
        "\n",
        "solvers = {}\n",
        "dropout_choices = [0, 0.75]\n",
        "for dropout in dropout_choices:\n",
        "    model = FullyConnectedNet([500], dropout=dropout)\n",
        "    print (dropout)\n",
        "\n",
        "    solver = Solver(model, small_data,\n",
        "                  num_epochs=25, batch_size=100,\n",
        "                  update_rule='adam',\n",
        "                  optim_config={\n",
        "                    'learning_rate': 5e-4,\n",
        "                  },\n",
        "                  verbose=True, print_every=100)\n",
        "    solver.train()\n",
        "    solvers[dropout] = solver"
      ],
      "execution_count": 23,
      "outputs": [
        {
          "output_type": "stream",
          "text": [
            "0\n",
            "(Iteration 1 / 125) loss: 7.972809\n",
            "(Epoch 0 / 25) train acc: 0.264000; val_acc: 0.188000\n",
            "(Epoch 1 / 25) train acc: 0.396000; val_acc: 0.259000\n",
            "(Epoch 2 / 25) train acc: 0.524000; val_acc: 0.264000\n",
            "(Epoch 3 / 25) train acc: 0.632000; val_acc: 0.256000\n",
            "(Epoch 4 / 25) train acc: 0.688000; val_acc: 0.266000\n",
            "(Epoch 5 / 25) train acc: 0.792000; val_acc: 0.274000\n",
            "(Epoch 6 / 25) train acc: 0.796000; val_acc: 0.268000\n",
            "(Epoch 7 / 25) train acc: 0.850000; val_acc: 0.290000\n",
            "(Epoch 8 / 25) train acc: 0.878000; val_acc: 0.271000\n",
            "(Epoch 9 / 25) train acc: 0.926000; val_acc: 0.290000\n",
            "(Epoch 10 / 25) train acc: 0.896000; val_acc: 0.284000\n",
            "(Epoch 11 / 25) train acc: 0.928000; val_acc: 0.268000\n",
            "(Epoch 12 / 25) train acc: 0.966000; val_acc: 0.267000\n",
            "(Epoch 13 / 25) train acc: 0.964000; val_acc: 0.273000\n",
            "(Epoch 14 / 25) train acc: 0.966000; val_acc: 0.306000\n",
            "(Epoch 15 / 25) train acc: 0.966000; val_acc: 0.287000\n",
            "(Epoch 16 / 25) train acc: 0.966000; val_acc: 0.282000\n",
            "(Epoch 17 / 25) train acc: 0.952000; val_acc: 0.261000\n",
            "(Epoch 18 / 25) train acc: 0.988000; val_acc: 0.274000\n",
            "(Epoch 19 / 25) train acc: 0.980000; val_acc: 0.276000\n",
            "(Epoch 20 / 25) train acc: 0.964000; val_acc: 0.283000\n",
            "(Iteration 101 / 125) loss: 0.459498\n",
            "(Epoch 21 / 25) train acc: 0.976000; val_acc: 0.262000\n",
            "(Epoch 22 / 25) train acc: 0.990000; val_acc: 0.269000\n",
            "(Epoch 23 / 25) train acc: 0.960000; val_acc: 0.251000\n",
            "(Epoch 24 / 25) train acc: 0.968000; val_acc: 0.253000\n",
            "(Epoch 25 / 25) train acc: 0.968000; val_acc: 0.278000\n",
            "0.75\n"
          ],
          "name": "stdout"
        },
        {
          "output_type": "stream",
          "text": [
            "/content/deeplearning/layers.py:718: RuntimeWarning: divide by zero encountered in log\n",
            "  loss = -np.sum(np.log(probs[np.arange(N), y])) / N\n"
          ],
          "name": "stderr"
        },
        {
          "output_type": "stream",
          "text": [
            "(Iteration 1 / 125) loss: inf\n",
            "(Epoch 0 / 25) train acc: 0.146000; val_acc: 0.127000\n",
            "(Epoch 1 / 25) train acc: 0.208000; val_acc: 0.169000\n",
            "(Epoch 2 / 25) train acc: 0.300000; val_acc: 0.215000\n",
            "(Epoch 3 / 25) train acc: 0.334000; val_acc: 0.252000\n",
            "(Epoch 4 / 25) train acc: 0.344000; val_acc: 0.239000\n",
            "(Epoch 5 / 25) train acc: 0.364000; val_acc: 0.247000\n",
            "(Epoch 6 / 25) train acc: 0.400000; val_acc: 0.233000\n",
            "(Epoch 7 / 25) train acc: 0.456000; val_acc: 0.234000\n",
            "(Epoch 8 / 25) train acc: 0.526000; val_acc: 0.295000\n",
            "(Epoch 9 / 25) train acc: 0.486000; val_acc: 0.286000\n",
            "(Epoch 10 / 25) train acc: 0.504000; val_acc: 0.276000\n",
            "(Epoch 11 / 25) train acc: 0.504000; val_acc: 0.258000\n",
            "(Epoch 12 / 25) train acc: 0.524000; val_acc: 0.267000\n",
            "(Epoch 13 / 25) train acc: 0.538000; val_acc: 0.273000\n",
            "(Epoch 14 / 25) train acc: 0.530000; val_acc: 0.269000\n",
            "(Epoch 15 / 25) train acc: 0.560000; val_acc: 0.286000\n",
            "(Epoch 16 / 25) train acc: 0.562000; val_acc: 0.302000\n",
            "(Epoch 17 / 25) train acc: 0.528000; val_acc: 0.299000\n",
            "(Epoch 18 / 25) train acc: 0.558000; val_acc: 0.287000\n",
            "(Epoch 19 / 25) train acc: 0.582000; val_acc: 0.291000\n",
            "(Epoch 20 / 25) train acc: 0.610000; val_acc: 0.264000\n",
            "(Iteration 101 / 125) loss: 20.659295\n",
            "(Epoch 21 / 25) train acc: 0.598000; val_acc: 0.278000\n",
            "(Epoch 22 / 25) train acc: 0.606000; val_acc: 0.288000\n",
            "(Epoch 23 / 25) train acc: 0.606000; val_acc: 0.288000\n",
            "(Epoch 24 / 25) train acc: 0.630000; val_acc: 0.289000\n",
            "(Epoch 25 / 25) train acc: 0.624000; val_acc: 0.290000\n"
          ],
          "name": "stdout"
        }
      ]
    },
    {
      "cell_type": "code",
      "metadata": {
        "colab": {
          "base_uri": "https://localhost:8080/",
          "height": 488
        },
        "id": "gJZSJ_Na1wfk",
        "outputId": "03348712-16dd-47ea-8fba-e05fdd0714df"
      },
      "source": [
        "# Plot train and validation accuracies of the two models\n",
        "\n",
        "train_accs = []\n",
        "val_accs = []\n",
        "for dropout in dropout_choices:\n",
        "    solver = solvers[dropout]\n",
        "    train_accs.append(solver.train_acc_history[-1])\n",
        "    val_accs.append(solver.val_acc_history[-1])\n",
        "    ###solver.record_histories_as_npz('submission_logs/dropout_regularization_experiment_p{}.npz'.format(dropout))\n",
        "    ###\n",
        "    from google.colab import drive\n",
        "    drive.mount('/content/drive')\n",
        "    ###\n",
        "    solver.record_histories_as_npz('/content/drive/My Drive/assignment1/submission_logs/dropout_regularization_experiment_p{}.npz'.format(dropout))\n",
        "\n",
        "plt.subplot(3, 1, 1)\n",
        "for dropout in dropout_choices:\n",
        "    plt.plot(solvers[dropout].train_acc_history, 'o', label='%.2f dropout' % dropout)\n",
        "plt.title('Train accuracy')\n",
        "plt.xlabel('Epoch')\n",
        "plt.ylabel('Accuracy')\n",
        "plt.legend(ncol=2, loc='lower right')\n",
        "  \n",
        "plt.subplot(3, 1, 2)\n",
        "for dropout in dropout_choices:\n",
        "    plt.plot(solvers[dropout].val_acc_history, 'o', label='%.2f dropout' % dropout)\n",
        "plt.title('Val accuracy')\n",
        "plt.xlabel('Epoch')\n",
        "plt.ylabel('Accuracy')\n",
        "plt.legend(ncol=2, loc='lower right')\n",
        "\n",
        "plt.gcf().set_size_inches(15, 15)\n",
        "plt.show()"
      ],
      "execution_count": 24,
      "outputs": [
        {
          "output_type": "stream",
          "text": [
            "Mounted at /content/drive\n",
            "Drive already mounted at /content/drive; to attempt to forcibly remount, call drive.mount(\"/content/drive\", force_remount=True).\n"
          ],
          "name": "stdout"
        },
        {
          "output_type": "display_data",
          "data": {
            "image/png": "[encoded data removed]",
            "text/plain": [
              "<Figure size 1080x1080 with 2 Axes>"
            ]
          },
          "metadata": {
            "tags": [],
            "needs_background": "light"
          }
        }
      ]
    },
    {
      "cell_type": "markdown",
      "metadata": {
        "id": "3LL4gCwL1wfl"
      },
      "source": [
        "# Question\n",
        "Explain what you see in this experiment. What does it suggest about dropout?"
      ]
    },
    {
      "cell_type": "markdown",
      "metadata": {
        "id": "VAmZLSJO1wfm"
      },
      "source": [
        "# Answer\n",
        "Using dropout will converge slower but have a better validation accuracy, since dropout has regularizing effect.\n"
      ]
    }
  ]
}