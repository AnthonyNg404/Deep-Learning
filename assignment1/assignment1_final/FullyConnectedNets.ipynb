{
  "nbformat": 4,
  "nbformat_minor": 0,
  "metadata": {
    "colab": {
      "name": "FullyConnectedNets.ipynb",
      "provenance": []
    },
    "kernelspec": {
      "display_name": "Python 3",
      "language": "python",
      "name": "python3"
    },
    "language_info": {
      "codemirror_mode": {
        "name": "ipython",
        "version": 3
      },
      "file_extension": ".py",
      "mimetype": "text/x-python",
      "name": "python",
      "nbconvert_exporter": "python",
      "pygments_lexer": "ipython3",
      "version": "3.7.9"
    }
  },
  "cells": [
    {
      "cell_type": "markdown",
      "metadata": {
        "id": "77lBUuN45iln"
      },
      "source": [
        "# Fully-Connected Neural Nets\n",
        "\n",
        "In this notebook we will implement fully-connected networks using a modular approach. For each layer we will implement a `forward` and a `backward` function. The `forward` function will receive inputs, weights, and other parameters and will return both an output and a `cache` object storing data needed for the backward pass, like this:\n",
        "\n",
        "```python\n",
        "def layer_forward(x, w):\n",
        "  \"\"\" Receive inputs x and weights w \"\"\"\n",
        "  # Do some computations ...\n",
        "  z = # ... some intermediate value\n",
        "  # Do some more computations ...\n",
        "  out = # the output\n",
        "   \n",
        "  cache = (x, w, z, out) # Values we need to compute gradients\n",
        "  \n",
        "  return out, cache\n",
        "```\n",
        "\n",
        "The backward pass will receive upstream derivatives and the `cache` object, and will return gradients with respect to the inputs and weights, like this:\n",
        "\n",
        "```python\n",
        "def layer_backward(dout, cache):\n",
        "  \"\"\"\n",
        "  Receive derivative of loss with respect to outputs and cache,\n",
        "  and compute derivative with respect to inputs.\n",
        "  \"\"\"\n",
        "  # Unpack cache values\n",
        "  x, w, z, out = cache\n",
        "  \n",
        "  # Use values in cache to compute derivatives\n",
        "  dx = # Derivative of loss with respect to x\n",
        "  dw = # Derivative of loss with respect to w\n",
        "  \n",
        "  return dx, dw\n",
        "```\n",
        "\n",
        "After implementing a bunch of layers this way, we will be able to easily combine them to build classifiers with different architectures.\n",
        "\n",
        "In addition to implementing fully-connected networks of arbitrary depth, we will also explore different update rules for optimization, and introduce Dropout as a regularizer and Batch Normalization as a tool to more efficiently optimize deep networks.\n",
        "  "
      ]
    },
    {
      "cell_type": "code",
      "metadata": {
        "collapsed": true,
        "id": "l9nz_ZHD5ilu"
      },
      "source": [
        "# As usual, a bit of setup\n",
        "\n",
        "import time\n",
        "import numpy as np\n",
        "import matplotlib.pyplot as plt\n",
        "from deeplearning.classifiers.fc_net import *\n",
        "from deeplearning.data_utils import get_CIFAR10_data\n",
        "from deeplearning.gradient_check import eval_numerical_gradient, eval_numerical_gradient_array\n",
        "from deeplearning.solver import Solver\n",
        "\n",
        "%matplotlib inline\n",
        "plt.rcParams['figure.figsize'] = (10.0, 8.0) # set default size of plots\n",
        "plt.rcParams['image.interpolation'] = 'nearest'\n",
        "plt.rcParams['image.cmap'] = 'gray'\n",
        "\n",
        "# for auto-reloading external modules\n",
        "# see http://stackoverflow.com/questions/1907993/autoreload-of-modules-in-ipython\n",
        "%load_ext autoreload\n",
        "%autoreload 2\n",
        "\n",
        "def rel_error(x, y):\n",
        "    \"\"\" returns relative error \"\"\"\n",
        "    return np.max(np.abs(x - y) / (np.maximum(1e-8, np.abs(x) + np.abs(y))))"
      ],
      "execution_count": 1,
      "outputs": []
    },
    {
      "cell_type": "code",
      "metadata": {
        "colab": {
          "base_uri": "https://localhost:8080/"
        },
        "id": "6GI_UNjV5ilv",
        "outputId": "d6a17763-7f90-41be-d3dd-868b76afed3e"
      },
      "source": [
        "# Load the (preprocessed) CIFAR10 data.\n",
        "\n",
        "data = get_CIFAR10_data()\n",
        "for k, v in data.items():\n",
        "    print('%s: ' % k, v.shape)"
      ],
      "execution_count": 2,
      "outputs": [
        {
          "output_type": "stream",
          "text": [
            "deeplearning/datasets/cifar-10-batches-py/data_batch_1\n",
            "deeplearning/datasets/cifar-10-batches-py/data_batch_2\n",
            "deeplearning/datasets/cifar-10-batches-py/data_batch_3\n",
            "deeplearning/datasets/cifar-10-batches-py/data_batch_4\n",
            "deeplearning/datasets/cifar-10-batches-py/data_batch_5\n",
            "deeplearning/datasets/cifar-10-batches-py/test_batch\n",
            "X_train:  (49000, 3, 32, 32)\n",
            "y_train:  (49000,)\n",
            "X_val:  (1000, 3, 32, 32)\n",
            "y_val:  (1000,)\n",
            "X_test:  (1000, 3, 32, 32)\n",
            "y_test:  (1000,)\n"
          ],
          "name": "stdout"
        }
      ]
    },
    {
      "cell_type": "markdown",
      "metadata": {
        "id": "7-jGk3L35ilv"
      },
      "source": [
        "# Affine layer: forward\n",
        "Open the file `deeplearning/layers.py` and implement the `affine_forward` function.\n",
        "\n",
        "Once you are done you can test your implementaion by running the following:"
      ]
    },
    {
      "cell_type": "code",
      "metadata": {
        "colab": {
          "base_uri": "https://localhost:8080/"
        },
        "id": "wOJbvqH-5ilw",
        "outputId": "98ab31b1-8f14-4c79-eece-8addfbf3ae23"
      },
      "source": [
        "# Test the affine_forward function\n",
        "\n",
        "num_inputs = 2\n",
        "input_shape = (4, 5, 6)\n",
        "output_dim = 3\n",
        "\n",
        "input_size = num_inputs * np.prod(input_shape)\n",
        "weight_size = output_dim * np.prod(input_shape)\n",
        "\n",
        "x = np.linspace(-0.1, 0.5, num=input_size).reshape(num_inputs, *input_shape)\n",
        "w = np.linspace(-0.2, 0.3, num=weight_size).reshape(np.prod(input_shape), output_dim)\n",
        "b = np.linspace(-0.3, 0.1, num=output_dim)\n",
        "\n",
        "out, _ = affine_forward(x, w, b)\n",
        "correct_out = np.array([[ 1.49834967,  1.70660132,  1.91485297],\n",
        "                        [ 3.25553199,  3.5141327,   3.77273342]])\n",
        "\n",
        "# Compare your output with ours. The error should be around 1e-9.\n",
        "print('Testing affine_forward function:')\n",
        "print('difference: ', rel_error(out, correct_out))"
      ],
      "execution_count": 3,
      "outputs": [
        {
          "output_type": "stream",
          "text": [
            "Testing affine_forward function:\n",
            "difference:  9.769849468192957e-10\n"
          ],
          "name": "stdout"
        }
      ]
    },
    {
      "cell_type": "markdown",
      "metadata": {
        "id": "uvhMOwRh5ilx"
      },
      "source": [
        "# Affine layer: backward\n",
        "Now implement the `affine_backward` function and test your implementation using numeric gradient checking."
      ]
    },
    {
      "cell_type": "code",
      "metadata": {
        "colab": {
          "base_uri": "https://localhost:8080/"
        },
        "id": "Sj-4V_OH5ilx",
        "outputId": "bd8beaa3-76a0-433d-d28d-f531a3921e4b"
      },
      "source": [
        "# Test the affine_backward function\n",
        "\n",
        "x = np.random.randn(10, 2, 3)\n",
        "w = np.random.randn(6, 5)\n",
        "b = np.random.randn(5)\n",
        "dout = np.random.randn(10, 5)\n",
        "\n",
        "dx_num = eval_numerical_gradient_array(lambda x: affine_forward(x, w, b)[0], x, dout)\n",
        "dw_num = eval_numerical_gradient_array(lambda w: affine_forward(x, w, b)[0], w, dout)\n",
        "db_num = eval_numerical_gradient_array(lambda b: affine_forward(x, w, b)[0], b, dout)\n",
        "\n",
        "_, cache = affine_forward(x, w, b)\n",
        "dx, dw, db = affine_backward(dout, cache)\n",
        "# The error should be around 1e-10\n",
        "print('Testing affine_backward function:')\n",
        "print('dx error: ', rel_error(dx_num, dx))\n",
        "print('dw error: ', rel_error(dw_num, dw))\n",
        "print('db error: ', rel_error(db_num, db))"
      ],
      "execution_count": 4,
      "outputs": [
        {
          "output_type": "stream",
          "text": [
            "Testing affine_backward function:\n",
            "dx error:  2.4086503974688914e-10\n",
            "dw error:  8.149068665819532e-06\n",
            "db error:  5.1059765945009514e-12\n"
          ],
          "name": "stdout"
        }
      ]
    },
    {
      "cell_type": "markdown",
      "metadata": {
        "id": "EtkGJ68o5ilx"
      },
      "source": [
        "# ReLU layer: forward\n",
        "Implement the forward pass for the ReLU activation function in the `relu_forward` function and test your implementation using the following:"
      ]
    },
    {
      "cell_type": "code",
      "metadata": {
        "colab": {
          "base_uri": "https://localhost:8080/"
        },
        "id": "O0fkfVxH5ily",
        "outputId": "ac616dd3-5afa-4339-b3e5-4ecc20cf89d7"
      },
      "source": [
        "# Test the relu_forward function\n",
        "\n",
        "x = np.linspace(-0.5, 0.5, num=12).reshape(3, 4)\n",
        "\n",
        "out, _ = relu_forward(x)\n",
        "correct_out = np.array([[ 0.,          0.,          0.,          0.,        ],\n",
        "                        [ 0.,          0.,          0.04545455,  0.13636364,],\n",
        "                        [ 0.22727273,  0.31818182,  0.40909091,  0.5,       ]])\n",
        "\n",
        "# Compare your output with ours. The error should be around 1e-8\n",
        "print('Testing relu_forward function:')\n",
        "print('difference: ', rel_error(out, correct_out))"
      ],
      "execution_count": 5,
      "outputs": [
        {
          "output_type": "stream",
          "text": [
            "Testing relu_forward function:\n",
            "difference:  4.999999798022158e-08\n"
          ],
          "name": "stdout"
        }
      ]
    },
    {
      "cell_type": "markdown",
      "metadata": {
        "id": "WLgG3Zea5ily"
      },
      "source": [
        "# ReLU layer: backward\n",
        "Now implement the backward pass for the ReLU activation function in the `relu_backward` function and test your implementation using numeric gradient checking. Note that the ReLU activation is not differentiable at 0, but typically we don't worry about this and simply assign either 0 or 1 as the derivative by convention."
      ]
    },
    {
      "cell_type": "code",
      "metadata": {
        "colab": {
          "base_uri": "https://localhost:8080/"
        },
        "id": "AfETpp3f5ily",
        "outputId": "90f16fdb-d7dc-48eb-f190-48d01fcc84ca"
      },
      "source": [
        "x = np.random.randn(10, 10)\n",
        "dout = np.random.randn(*x.shape)\n",
        "\n",
        "dx_num = eval_numerical_gradient_array(lambda x: relu_forward(x)[0], x, dout)\n",
        "\n",
        "_, cache = relu_forward(x)\n",
        "dx = relu_backward(dout, cache)\n",
        "\n",
        "# The error should be around 1e-12\n",
        "print('Testing relu_backward function:')\n",
        "print('dx error: ', rel_error(dx_num, dx))"
      ],
      "execution_count": 6,
      "outputs": [
        {
          "output_type": "stream",
          "text": [
            "Testing relu_backward function:\n",
            "dx error:  3.2756036097182485e-12\n"
          ],
          "name": "stdout"
        }
      ]
    },
    {
      "cell_type": "markdown",
      "metadata": {
        "id": "r93DeZnP5ilz"
      },
      "source": [
        "# \"Sandwich\" layers\n",
        "There are some common patterns of layers that are frequently used in neural nets. For example, affine layers are frequently followed by a ReLU nonlinearity. To make these common patterns easy, we define several convenience layers in the file `deeplearning/layer_utils.py`.\n",
        "\n",
        "For now take a look at the `affine_relu_forward` and `affine_relu_backward` functions, and run the following to numerically gradient check the backward pass:"
      ]
    },
    {
      "cell_type": "code",
      "metadata": {
        "colab": {
          "base_uri": "https://localhost:8080/"
        },
        "id": "HKgkDMap5il0",
        "outputId": "eda182e3-a8c8-4884-dde4-356457061e61"
      },
      "source": [
        "from deeplearning.layer_utils import affine_relu_forward, affine_relu_backward\n",
        "\n",
        "x = np.random.randn(2, 3, 4)\n",
        "w = np.random.randn(12, 10)\n",
        "b = np.random.randn(10)\n",
        "dout = np.random.randn(2, 10)\n",
        "\n",
        "out, cache = affine_relu_forward(x, w, b)\n",
        "dx, dw, db = affine_relu_backward(dout, cache)\n",
        "\n",
        "dx_num = eval_numerical_gradient_array(lambda x: affine_relu_forward(x, w, b)[0], x, dout)\n",
        "dw_num = eval_numerical_gradient_array(lambda w: affine_relu_forward(x, w, b)[0], w, dout)\n",
        "db_num = eval_numerical_gradient_array(lambda b: affine_relu_forward(x, w, b)[0], b, dout)\n",
        "\n",
        "print('Testing affine_relu_forward:')\n",
        "print('dx error: ', rel_error(dx_num, dx))\n",
        "print('dw error: ', rel_error(dw_num, dw))\n",
        "print('db error: ', rel_error(db_num, db))"
      ],
      "execution_count": 7,
      "outputs": [
        {
          "output_type": "stream",
          "text": [
            "Testing affine_relu_forward:\n",
            "dx error:  2.8606320215160225e-09\n",
            "dw error:  1.7473818399252296e-09\n",
            "db error:  2.5480033781915165e-11\n"
          ],
          "name": "stdout"
        }
      ]
    },
    {
      "cell_type": "markdown",
      "metadata": {
        "id": "lror9EVD5il0"
      },
      "source": [
        "# Loss layers: Softmax and SVM\n",
        "Here we provide two loss functions that we will use to train our deep neural networks. You should understand how they work by looking at the implementations in `deeplearnign/layers.py`.\n",
        "\n",
        "You can make sure that the implementations are correct by running the following:"
      ]
    },
    {
      "cell_type": "code",
      "metadata": {
        "colab": {
          "base_uri": "https://localhost:8080/"
        },
        "id": "0V8Tx0Rk5il0",
        "outputId": "f395b975-a76d-4a51-b8cb-22cf499bc40a"
      },
      "source": [
        "num_classes, num_inputs = 10, 50\n",
        "x = 0.001 * np.random.randn(num_inputs, num_classes)\n",
        "y = np.random.randint(num_classes, size=num_inputs)\n",
        "\n",
        "dx_num = eval_numerical_gradient(lambda x: svm_loss(x, y)[0], x, verbose=False)\n",
        "loss, dx = svm_loss(x, y)\n",
        "\n",
        "# Test svm_loss function. Loss should be around 9 and dx error should be 1e-9\n",
        "print('Testing svm_loss:')\n",
        "print('loss: ', loss)\n",
        "print('dx error: ', rel_error(dx_num, dx))\n",
        "\n",
        "dx_num = eval_numerical_gradient(lambda x: softmax_loss(x, y)[0], x, verbose=False)\n",
        "loss, dx = softmax_loss(x, y)\n",
        "\n",
        "# Test softmax_loss function. Loss should be 2.3 and dx error should be 1e-8\n",
        "print('\\nTesting softmax_loss:')\n",
        "print('loss: ', loss)\n",
        "print('dx error: ', rel_error(dx_num, dx))"
      ],
      "execution_count": 8,
      "outputs": [
        {
          "output_type": "stream",
          "text": [
            "Testing svm_loss:\n",
            "loss:  9.000788083279657\n",
            "dx error:  1.4021566006651672e-09\n",
            "\n",
            "Testing softmax_loss:\n",
            "loss:  2.3026643641458278\n",
            "dx error:  7.568773886206858e-09\n"
          ],
          "name": "stdout"
        }
      ]
    },
    {
      "cell_type": "markdown",
      "metadata": {
        "id": "RRIZgDbL5il1"
      },
      "source": [
        "# Two-layer network\n",
        "\n",
        "Open the file `deeplearning/classifiers/fc_net.py` and complete the implementation of the `TwoLayerNet` class. This class will serve as a model for the other networks you will implement in this assignment, so read through it to make sure you understand the API. Run the cell below to test your implementation."
      ]
    },
    {
      "cell_type": "code",
      "metadata": {
        "colab": {
          "base_uri": "https://localhost:8080/"
        },
        "id": "Dcp_bx5N5il1",
        "outputId": "33da7c8a-1e16-4866-b745-a38a32a334dc"
      },
      "source": [
        "N, D, H, C = 3, 5, 50, 7\n",
        "X = np.random.randn(N, D)\n",
        "y = np.random.randint(C, size=N)\n",
        "\n",
        "std = 1e-2\n",
        "model = TwoLayerNet(input_dim=D, hidden_dim=H, num_classes=C, weight_scale=std)\n",
        "\n",
        "print ('Testing initialization ... ')\n",
        "W1_std = abs(model.params['W1'].std() - std)\n",
        "b1 = model.params['b1']\n",
        "W2_std = abs(model.params['W2'].std() - std)\n",
        "b2 = model.params['b2']\n",
        "assert W1_std < std / 10, 'First layer weights do not seem right'\n",
        "assert np.all(b1 == 0), 'First layer biases do not seem right'\n",
        "assert W2_std < std / 10, 'Second layer weights do not seem right'\n",
        "assert np.all(b2 == 0), 'Second layer biases do not seem right'\n",
        "\n",
        "print ('Testing test-time forward pass ... ')\n",
        "model.params['W1'] = np.linspace(-0.7, 0.3, num=D*H).reshape(D, H)\n",
        "model.params['b1'] = np.linspace(-0.1, 0.9, num=H)\n",
        "model.params['W2'] = np.linspace(-0.3, 0.4, num=H*C).reshape(H, C)\n",
        "model.params['b2'] = np.linspace(-0.9, 0.1, num=C)\n",
        "X = np.linspace(-5.5, 4.5, num=N*D).reshape(D, N).T\n",
        "scores = model.loss(X)\n",
        "correct_scores = np.asarray(\n",
        "  [[11.53165108,  12.2917344,   13.05181771,  13.81190102,  14.57198434, 15.33206765,  16.09215096],\n",
        "   [12.05769098,  12.74614105,  13.43459113,  14.1230412,   14.81149128, 15.49994135,  16.18839143],\n",
        "   [12.58373087,  13.20054771,  13.81736455,  14.43418138,  15.05099822, 15.66781506,  16.2846319 ]])\n",
        "scores_diff = np.abs(scores - correct_scores).sum()\n",
        "assert scores_diff < 1e-6, 'Problem with test-time forward pass'\n",
        "\n",
        "print ('Testing training loss (no regularization)')\n",
        "y = np.asarray([0, 5, 1])\n",
        "loss, grads = model.loss(X, y)\n",
        "correct_loss = 3.4702243556\n",
        "assert abs(loss - correct_loss) < 1e-10, 'Problem with training-time loss'\n",
        "\n",
        "model.reg = 1.0\n",
        "loss, grads = model.loss(X, y)\n",
        "correct_loss = 26.5948426952\n",
        "assert abs(loss - correct_loss) < 1e-10, 'Problem with regularization loss'\n",
        "\n",
        "for reg in [0.0, 0.7]:\n",
        "    print ('Running numeric gradient check with reg = ', reg)\n",
        "    model.reg = reg\n",
        "    loss, grads = model.loss(X, y)\n",
        "\n",
        "    for name in sorted(grads):\n",
        "        f = lambda _: model.loss(X, y)[0]\n",
        "        grad_num = eval_numerical_gradient(f, model.params[name], verbose=False)\n",
        "        print ('%s relative error: %.2e' % (name, rel_error(grad_num, grads[name])))"
      ],
      "execution_count": 9,
      "outputs": [
        {
          "output_type": "stream",
          "text": [
            "Testing initialization ... \n",
            "Testing test-time forward pass ... \n",
            "Testing training loss (no regularization)\n",
            "Running numeric gradient check with reg =  0.0\n",
            "W1 relative error: 1.83e-08\n",
            "W2 relative error: 3.20e-10\n",
            "b1 relative error: 9.83e-09\n",
            "b2 relative error: 4.33e-10\n",
            "Running numeric gradient check with reg =  0.7\n",
            "W1 relative error: 2.53e-07\n",
            "W2 relative error: 7.98e-08\n",
            "b1 relative error: 1.56e-08\n",
            "b2 relative error: 9.09e-10\n"
          ],
          "name": "stdout"
        }
      ]
    },
    {
      "cell_type": "markdown",
      "metadata": {
        "id": "TBeBobED5il1"
      },
      "source": [
        "# Solver\n",
        "Following a modular design, for this assignment we have split the logic for training models into a separate class from the models themselves.\n",
        "\n",
        "Open the file `deeplearning/solver.py` and read through it to familiarize yourself with the API. After doing so, use a `Solver` instance to train a `TwoLayerNet` that achieves at least `50%` accuracy on the validation set."
      ]
    },
    {
      "cell_type": "code",
      "metadata": {
        "colab": {
          "base_uri": "https://localhost:8080/"
        },
        "id": "1ywo8Rax5il2",
        "outputId": "374aca2b-4324-46bc-a9b6-7eea7c1725bf"
      },
      "source": [
        "model = TwoLayerNet()\n",
        "solver = None\n",
        "\n",
        "##############################################################################\n",
        "# TODO: Use a Solver instance to train a TwoLayerNet that achieves at least  #\n",
        "# 50% accuracy on the validation set.                                        #\n",
        "##############################################################################\n",
        "optim_config = {}\n",
        "optim_config['learning_rate'] = 0.001\n",
        "solver = Solver(model, data, optim_config=optim_config, lr_decay=0.9, num_epochs=10)\n",
        "solver.train()\n",
        "##############################################################################\n",
        "#                             END OF YOUR CODE                               #\n",
        "##############################################################################"
      ],
      "execution_count": 10,
      "outputs": [
        {
          "output_type": "stream",
          "text": [
            "(Iteration 1 / 4900) loss: 2.299454\n",
            "(Epoch 0 / 10) train acc: 0.148000; val_acc: 0.141000\n",
            "(Iteration 11 / 4900) loss: 2.242815\n",
            "(Iteration 21 / 4900) loss: 2.155489\n",
            "(Iteration 31 / 4900) loss: 2.060082\n",
            "(Iteration 41 / 4900) loss: 2.020277\n",
            "(Iteration 51 / 4900) loss: 1.932314\n",
            "(Iteration 61 / 4900) loss: 1.923263\n",
            "(Iteration 71 / 4900) loss: 1.995789\n",
            "(Iteration 81 / 4900) loss: 1.906599\n",
            "(Iteration 91 / 4900) loss: 1.841138\n",
            "(Iteration 101 / 4900) loss: 1.757372\n",
            "(Iteration 111 / 4900) loss: 1.872018\n",
            "(Iteration 121 / 4900) loss: 1.765161\n",
            "(Iteration 131 / 4900) loss: 1.764740\n",
            "(Iteration 141 / 4900) loss: 1.839331\n",
            "(Iteration 151 / 4900) loss: 1.778326\n",
            "(Iteration 161 / 4900) loss: 1.777655\n",
            "(Iteration 171 / 4900) loss: 1.755689\n",
            "(Iteration 181 / 4900) loss: 1.604645\n",
            "(Iteration 191 / 4900) loss: 1.724033\n",
            "(Iteration 201 / 4900) loss: 1.688737\n",
            "(Iteration 211 / 4900) loss: 1.690748\n",
            "(Iteration 221 / 4900) loss: 1.640202\n",
            "(Iteration 231 / 4900) loss: 1.658143\n",
            "(Iteration 241 / 4900) loss: 1.574527\n",
            "(Iteration 251 / 4900) loss: 1.611314\n",
            "(Iteration 261 / 4900) loss: 1.718503\n",
            "(Iteration 271 / 4900) loss: 1.618481\n",
            "(Iteration 281 / 4900) loss: 1.637062\n",
            "(Iteration 291 / 4900) loss: 1.542135\n",
            "(Iteration 301 / 4900) loss: 1.761098\n",
            "(Iteration 311 / 4900) loss: 1.693477\n",
            "(Iteration 321 / 4900) loss: 1.441976\n",
            "(Iteration 331 / 4900) loss: 1.425826\n",
            "(Iteration 341 / 4900) loss: 1.573588\n",
            "(Iteration 351 / 4900) loss: 1.684951\n",
            "(Iteration 361 / 4900) loss: 1.643882\n",
            "(Iteration 371 / 4900) loss: 1.443580\n",
            "(Iteration 381 / 4900) loss: 1.760431\n",
            "(Iteration 391 / 4900) loss: 1.655175\n",
            "(Iteration 401 / 4900) loss: 1.779086\n",
            "(Iteration 411 / 4900) loss: 1.677910\n",
            "(Iteration 421 / 4900) loss: 1.491166\n",
            "(Iteration 431 / 4900) loss: 1.566023\n",
            "(Iteration 441 / 4900) loss: 1.720824\n",
            "(Iteration 451 / 4900) loss: 1.536058\n",
            "(Iteration 461 / 4900) loss: 1.883494\n",
            "(Iteration 471 / 4900) loss: 1.673094\n",
            "(Iteration 481 / 4900) loss: 1.652208\n",
            "(Epoch 1 / 10) train acc: 0.435000; val_acc: 0.438000\n",
            "(Iteration 491 / 4900) loss: 1.649254\n",
            "(Iteration 501 / 4900) loss: 1.566014\n",
            "(Iteration 511 / 4900) loss: 1.574060\n",
            "(Iteration 521 / 4900) loss: 1.632326\n",
            "(Iteration 531 / 4900) loss: 1.398601\n",
            "(Iteration 541 / 4900) loss: 1.575302\n",
            "(Iteration 551 / 4900) loss: 1.617318\n",
            "(Iteration 561 / 4900) loss: 1.395482\n",
            "(Iteration 571 / 4900) loss: 1.404009\n",
            "(Iteration 581 / 4900) loss: 1.725394\n",
            "(Iteration 591 / 4900) loss: 1.627577\n",
            "(Iteration 601 / 4900) loss: 1.362995\n",
            "(Iteration 611 / 4900) loss: 1.674333\n",
            "(Iteration 621 / 4900) loss: 1.727730\n",
            "(Iteration 631 / 4900) loss: 1.576425\n",
            "(Iteration 641 / 4900) loss: 1.487236\n",
            "(Iteration 651 / 4900) loss: 1.622920\n",
            "(Iteration 661 / 4900) loss: 1.350094\n",
            "(Iteration 671 / 4900) loss: 1.417950\n",
            "(Iteration 681 / 4900) loss: 1.573304\n",
            "(Iteration 691 / 4900) loss: 1.512000\n",
            "(Iteration 701 / 4900) loss: 1.386448\n",
            "(Iteration 711 / 4900) loss: 1.547199\n",
            "(Iteration 721 / 4900) loss: 1.461463\n",
            "(Iteration 731 / 4900) loss: 1.469000\n",
            "(Iteration 741 / 4900) loss: 1.287238\n",
            "(Iteration 751 / 4900) loss: 1.415759\n",
            "(Iteration 761 / 4900) loss: 1.534058\n",
            "(Iteration 771 / 4900) loss: 1.438249\n",
            "(Iteration 781 / 4900) loss: 1.492991\n",
            "(Iteration 791 / 4900) loss: 1.384288\n",
            "(Iteration 801 / 4900) loss: 1.493139\n",
            "(Iteration 811 / 4900) loss: 1.364786\n",
            "(Iteration 821 / 4900) loss: 1.671407\n",
            "(Iteration 831 / 4900) loss: 1.307489\n",
            "(Iteration 841 / 4900) loss: 1.429213\n",
            "(Iteration 851 / 4900) loss: 1.536581\n",
            "(Iteration 861 / 4900) loss: 1.506516\n",
            "(Iteration 871 / 4900) loss: 1.384863\n",
            "(Iteration 881 / 4900) loss: 1.587098\n",
            "(Iteration 891 / 4900) loss: 1.334114\n",
            "(Iteration 901 / 4900) loss: 1.368688\n",
            "(Iteration 911 / 4900) loss: 1.329165\n",
            "(Iteration 921 / 4900) loss: 1.358622\n",
            "(Iteration 931 / 4900) loss: 1.451140\n",
            "(Iteration 941 / 4900) loss: 1.400832\n",
            "(Iteration 951 / 4900) loss: 1.361578\n",
            "(Iteration 961 / 4900) loss: 1.633928\n",
            "(Iteration 971 / 4900) loss: 1.425636\n",
            "(Epoch 2 / 10) train acc: 0.509000; val_acc: 0.463000\n",
            "(Iteration 981 / 4900) loss: 1.481628\n",
            "(Iteration 991 / 4900) loss: 1.312479\n",
            "(Iteration 1001 / 4900) loss: 1.426437\n",
            "(Iteration 1011 / 4900) loss: 1.526871\n",
            "(Iteration 1021 / 4900) loss: 1.296158\n",
            "(Iteration 1031 / 4900) loss: 1.375542\n",
            "(Iteration 1041 / 4900) loss: 1.465892\n",
            "(Iteration 1051 / 4900) loss: 1.455705\n",
            "(Iteration 1061 / 4900) loss: 1.645024\n",
            "(Iteration 1071 / 4900) loss: 1.455209\n",
            "(Iteration 1081 / 4900) loss: 1.350824\n",
            "(Iteration 1091 / 4900) loss: 1.384167\n",
            "(Iteration 1101 / 4900) loss: 1.404382\n",
            "(Iteration 1111 / 4900) loss: 1.509003\n",
            "(Iteration 1121 / 4900) loss: 1.314652\n",
            "(Iteration 1131 / 4900) loss: 1.365095\n",
            "(Iteration 1141 / 4900) loss: 1.294070\n",
            "(Iteration 1151 / 4900) loss: 1.475076\n",
            "(Iteration 1161 / 4900) loss: 1.385757\n",
            "(Iteration 1171 / 4900) loss: 1.480650\n",
            "(Iteration 1181 / 4900) loss: 1.499013\n",
            "(Iteration 1191 / 4900) loss: 1.411062\n",
            "(Iteration 1201 / 4900) loss: 1.540474\n",
            "(Iteration 1211 / 4900) loss: 1.570044\n",
            "(Iteration 1221 / 4900) loss: 1.442610\n",
            "(Iteration 1231 / 4900) loss: 1.278920\n",
            "(Iteration 1241 / 4900) loss: 1.240634\n",
            "(Iteration 1251 / 4900) loss: 1.470545\n",
            "(Iteration 1261 / 4900) loss: 1.433026\n",
            "(Iteration 1271 / 4900) loss: 1.589548\n",
            "(Iteration 1281 / 4900) loss: 1.292146\n",
            "(Iteration 1291 / 4900) loss: 1.209973\n",
            "(Iteration 1301 / 4900) loss: 1.489209\n",
            "(Iteration 1311 / 4900) loss: 1.518706\n",
            "(Iteration 1321 / 4900) loss: 1.338042\n",
            "(Iteration 1331 / 4900) loss: 1.171922\n",
            "(Iteration 1341 / 4900) loss: 1.413454\n",
            "(Iteration 1351 / 4900) loss: 1.271472\n",
            "(Iteration 1361 / 4900) loss: 1.209542\n",
            "(Iteration 1371 / 4900) loss: 1.678813\n",
            "(Iteration 1381 / 4900) loss: 1.426136\n",
            "(Iteration 1391 / 4900) loss: 1.305815\n",
            "(Iteration 1401 / 4900) loss: 1.395669\n",
            "(Iteration 1411 / 4900) loss: 1.364893\n",
            "(Iteration 1421 / 4900) loss: 1.331647\n",
            "(Iteration 1431 / 4900) loss: 1.371212\n",
            "(Iteration 1441 / 4900) loss: 1.327540\n",
            "(Iteration 1451 / 4900) loss: 1.388071\n",
            "(Iteration 1461 / 4900) loss: 1.243668\n",
            "(Epoch 3 / 10) train acc: 0.497000; val_acc: 0.474000\n",
            "(Iteration 1471 / 4900) loss: 1.444013\n",
            "(Iteration 1481 / 4900) loss: 1.188775\n",
            "(Iteration 1491 / 4900) loss: 1.257054\n",
            "(Iteration 1501 / 4900) loss: 1.312799\n",
            "(Iteration 1511 / 4900) loss: 1.669065\n",
            "(Iteration 1521 / 4900) loss: 1.503848\n",
            "(Iteration 1531 / 4900) loss: 1.338352\n",
            "(Iteration 1541 / 4900) loss: 1.368451\n",
            "(Iteration 1551 / 4900) loss: 1.330303\n",
            "(Iteration 1561 / 4900) loss: 1.296772\n",
            "(Iteration 1571 / 4900) loss: 1.209279\n",
            "(Iteration 1581 / 4900) loss: 1.510360\n",
            "(Iteration 1591 / 4900) loss: 1.369076\n",
            "(Iteration 1601 / 4900) loss: 1.375583\n",
            "(Iteration 1611 / 4900) loss: 1.136411\n",
            "(Iteration 1621 / 4900) loss: 1.507151\n",
            "(Iteration 1631 / 4900) loss: 1.328517\n",
            "(Iteration 1641 / 4900) loss: 1.341708\n",
            "(Iteration 1651 / 4900) loss: 1.436417\n",
            "(Iteration 1661 / 4900) loss: 1.314870\n",
            "(Iteration 1671 / 4900) loss: 1.318029\n",
            "(Iteration 1681 / 4900) loss: 1.383299\n",
            "(Iteration 1691 / 4900) loss: 1.543487\n",
            "(Iteration 1701 / 4900) loss: 1.334007\n",
            "(Iteration 1711 / 4900) loss: 1.223573\n",
            "(Iteration 1721 / 4900) loss: 1.251845\n",
            "(Iteration 1731 / 4900) loss: 1.277028\n",
            "(Iteration 1741 / 4900) loss: 1.267463\n",
            "(Iteration 1751 / 4900) loss: 1.427494\n",
            "(Iteration 1761 / 4900) loss: 1.381306\n",
            "(Iteration 1771 / 4900) loss: 1.233977\n",
            "(Iteration 1781 / 4900) loss: 1.329976\n",
            "(Iteration 1791 / 4900) loss: 1.576468\n",
            "(Iteration 1801 / 4900) loss: 1.265012\n",
            "(Iteration 1811 / 4900) loss: 1.528821\n",
            "(Iteration 1821 / 4900) loss: 1.477027\n",
            "(Iteration 1831 / 4900) loss: 1.516700\n",
            "(Iteration 1841 / 4900) loss: 1.528733\n",
            "(Iteration 1851 / 4900) loss: 1.455988\n",
            "(Iteration 1861 / 4900) loss: 1.312884\n",
            "(Iteration 1871 / 4900) loss: 1.197866\n",
            "(Iteration 1881 / 4900) loss: 1.250015\n",
            "(Iteration 1891 / 4900) loss: 1.277728\n",
            "(Iteration 1901 / 4900) loss: 1.324300\n",
            "(Iteration 1911 / 4900) loss: 1.165680\n",
            "(Iteration 1921 / 4900) loss: 1.472686\n",
            "(Iteration 1931 / 4900) loss: 1.501019\n",
            "(Iteration 1941 / 4900) loss: 1.299436\n",
            "(Iteration 1951 / 4900) loss: 1.165132\n",
            "(Epoch 4 / 10) train acc: 0.537000; val_acc: 0.496000\n",
            "(Iteration 1961 / 4900) loss: 1.198849\n",
            "(Iteration 1971 / 4900) loss: 1.401574\n",
            "(Iteration 1981 / 4900) loss: 1.511440\n",
            "(Iteration 1991 / 4900) loss: 1.294000\n",
            "(Iteration 2001 / 4900) loss: 1.434356\n",
            "(Iteration 2011 / 4900) loss: 1.131620\n",
            "(Iteration 2021 / 4900) loss: 1.281812\n",
            "(Iteration 2031 / 4900) loss: 1.314855\n",
            "(Iteration 2041 / 4900) loss: 1.277967\n",
            "(Iteration 2051 / 4900) loss: 1.388308\n",
            "(Iteration 2061 / 4900) loss: 1.466241\n",
            "(Iteration 2071 / 4900) loss: 1.457185\n",
            "(Iteration 2081 / 4900) loss: 1.180827\n",
            "(Iteration 2091 / 4900) loss: 1.141818\n",
            "(Iteration 2101 / 4900) loss: 1.209128\n",
            "(Iteration 2111 / 4900) loss: 1.197946\n",
            "(Iteration 2121 / 4900) loss: 1.220413\n",
            "(Iteration 2131 / 4900) loss: 1.416813\n",
            "(Iteration 2141 / 4900) loss: 1.359704\n",
            "(Iteration 2151 / 4900) loss: 1.466845\n",
            "(Iteration 2161 / 4900) loss: 1.166550\n",
            "(Iteration 2171 / 4900) loss: 1.292405\n",
            "(Iteration 2181 / 4900) loss: 1.164981\n",
            "(Iteration 2191 / 4900) loss: 1.119635\n",
            "(Iteration 2201 / 4900) loss: 1.194218\n",
            "(Iteration 2211 / 4900) loss: 1.312643\n",
            "(Iteration 2221 / 4900) loss: 1.450742\n",
            "(Iteration 2231 / 4900) loss: 1.312673\n",
            "(Iteration 2241 / 4900) loss: 1.120280\n",
            "(Iteration 2251 / 4900) loss: 1.014408\n",
            "(Iteration 2261 / 4900) loss: 1.431460\n",
            "(Iteration 2271 / 4900) loss: 1.265635\n",
            "(Iteration 2281 / 4900) loss: 1.165412\n",
            "(Iteration 2291 / 4900) loss: 1.278313\n",
            "(Iteration 2301 / 4900) loss: 1.183138\n",
            "(Iteration 2311 / 4900) loss: 1.215832\n",
            "(Iteration 2321 / 4900) loss: 1.499356\n",
            "(Iteration 2331 / 4900) loss: 1.262343\n",
            "(Iteration 2341 / 4900) loss: 1.414908\n",
            "(Iteration 2351 / 4900) loss: 1.392029\n",
            "(Iteration 2361 / 4900) loss: 1.312678\n",
            "(Iteration 2371 / 4900) loss: 1.127122\n",
            "(Iteration 2381 / 4900) loss: 1.235564\n",
            "(Iteration 2391 / 4900) loss: 1.013379\n",
            "(Iteration 2401 / 4900) loss: 1.181000\n",
            "(Iteration 2411 / 4900) loss: 1.162845\n",
            "(Iteration 2421 / 4900) loss: 1.157286\n",
            "(Iteration 2431 / 4900) loss: 1.648358\n",
            "(Iteration 2441 / 4900) loss: 1.302214\n",
            "(Epoch 5 / 10) train acc: 0.536000; val_acc: 0.499000\n",
            "(Iteration 2451 / 4900) loss: 1.254970\n",
            "(Iteration 2461 / 4900) loss: 1.433176\n",
            "(Iteration 2471 / 4900) loss: 1.399759\n",
            "(Iteration 2481 / 4900) loss: 1.076406\n",
            "(Iteration 2491 / 4900) loss: 1.226613\n",
            "(Iteration 2501 / 4900) loss: 1.261347\n",
            "(Iteration 2511 / 4900) loss: 1.156647\n",
            "(Iteration 2521 / 4900) loss: 1.070836\n",
            "(Iteration 2531 / 4900) loss: 1.171908\n",
            "(Iteration 2541 / 4900) loss: 1.006831\n",
            "(Iteration 2551 / 4900) loss: 1.249235\n",
            "(Iteration 2561 / 4900) loss: 1.196427\n",
            "(Iteration 2571 / 4900) loss: 1.491007\n",
            "(Iteration 2581 / 4900) loss: 1.397866\n",
            "(Iteration 2591 / 4900) loss: 1.185392\n",
            "(Iteration 2601 / 4900) loss: 1.174807\n",
            "(Iteration 2611 / 4900) loss: 1.408604\n",
            "(Iteration 2621 / 4900) loss: 1.388986\n",
            "(Iteration 2631 / 4900) loss: 1.102305\n",
            "(Iteration 2641 / 4900) loss: 1.168518\n",
            "(Iteration 2651 / 4900) loss: 1.120877\n",
            "(Iteration 2661 / 4900) loss: 1.200663\n",
            "(Iteration 2671 / 4900) loss: 1.217653\n",
            "(Iteration 2681 / 4900) loss: 1.164754\n",
            "(Iteration 2691 / 4900) loss: 1.180847\n",
            "(Iteration 2701 / 4900) loss: 1.232507\n",
            "(Iteration 2711 / 4900) loss: 1.146729\n",
            "(Iteration 2721 / 4900) loss: 1.080338\n",
            "(Iteration 2731 / 4900) loss: 1.175516\n",
            "(Iteration 2741 / 4900) loss: 1.194398\n",
            "(Iteration 2751 / 4900) loss: 1.221807\n",
            "(Iteration 2761 / 4900) loss: 1.213663\n",
            "(Iteration 2771 / 4900) loss: 1.247864\n",
            "(Iteration 2781 / 4900) loss: 1.204748\n",
            "(Iteration 2791 / 4900) loss: 1.075161\n",
            "(Iteration 2801 / 4900) loss: 1.251402\n",
            "(Iteration 2811 / 4900) loss: 1.300575\n",
            "(Iteration 2821 / 4900) loss: 1.132439\n",
            "(Iteration 2831 / 4900) loss: 1.152415\n",
            "(Iteration 2841 / 4900) loss: 1.237348\n",
            "(Iteration 2851 / 4900) loss: 1.258983\n",
            "(Iteration 2861 / 4900) loss: 1.142531\n",
            "(Iteration 2871 / 4900) loss: 1.281720\n",
            "(Iteration 2881 / 4900) loss: 1.254246\n",
            "(Iteration 2891 / 4900) loss: 1.177141\n",
            "(Iteration 2901 / 4900) loss: 1.281285\n",
            "(Iteration 2911 / 4900) loss: 0.947088\n",
            "(Iteration 2921 / 4900) loss: 1.171504\n",
            "(Iteration 2931 / 4900) loss: 1.178303\n",
            "(Epoch 6 / 10) train acc: 0.577000; val_acc: 0.497000\n",
            "(Iteration 2941 / 4900) loss: 1.326861\n",
            "(Iteration 2951 / 4900) loss: 1.626801\n",
            "(Iteration 2961 / 4900) loss: 1.271100\n",
            "(Iteration 2971 / 4900) loss: 1.241918\n",
            "(Iteration 2981 / 4900) loss: 1.169811\n",
            "(Iteration 2991 / 4900) loss: 1.117516\n",
            "(Iteration 3001 / 4900) loss: 1.303196\n",
            "(Iteration 3011 / 4900) loss: 1.143890\n",
            "(Iteration 3021 / 4900) loss: 1.253091\n",
            "(Iteration 3031 / 4900) loss: 1.040708\n",
            "(Iteration 3041 / 4900) loss: 1.012603\n",
            "(Iteration 3051 / 4900) loss: 1.192157\n",
            "(Iteration 3061 / 4900) loss: 1.339096\n",
            "(Iteration 3071 / 4900) loss: 1.231526\n",
            "(Iteration 3081 / 4900) loss: 1.350509\n",
            "(Iteration 3091 / 4900) loss: 1.310028\n",
            "(Iteration 3101 / 4900) loss: 1.246291\n",
            "(Iteration 3111 / 4900) loss: 1.511421\n",
            "(Iteration 3121 / 4900) loss: 1.284203\n",
            "(Iteration 3131 / 4900) loss: 1.328005\n",
            "(Iteration 3141 / 4900) loss: 0.958991\n",
            "(Iteration 3151 / 4900) loss: 1.106908\n",
            "(Iteration 3161 / 4900) loss: 1.321550\n",
            "(Iteration 3171 / 4900) loss: 1.169913\n",
            "(Iteration 3181 / 4900) loss: 1.178789\n",
            "(Iteration 3191 / 4900) loss: 1.268105\n",
            "(Iteration 3201 / 4900) loss: 1.454416\n",
            "(Iteration 3211 / 4900) loss: 1.094112\n",
            "(Iteration 3221 / 4900) loss: 1.089216\n",
            "(Iteration 3231 / 4900) loss: 1.138738\n",
            "(Iteration 3241 / 4900) loss: 1.002316\n",
            "(Iteration 3251 / 4900) loss: 1.165607\n",
            "(Iteration 3261 / 4900) loss: 1.055279\n",
            "(Iteration 3271 / 4900) loss: 1.151988\n",
            "(Iteration 3281 / 4900) loss: 1.255704\n",
            "(Iteration 3291 / 4900) loss: 1.262002\n",
            "(Iteration 3301 / 4900) loss: 1.126774\n",
            "(Iteration 3311 / 4900) loss: 1.303225\n",
            "(Iteration 3321 / 4900) loss: 1.255337\n",
            "(Iteration 3331 / 4900) loss: 1.185070\n",
            "(Iteration 3341 / 4900) loss: 1.113180\n",
            "(Iteration 3351 / 4900) loss: 1.228734\n",
            "(Iteration 3361 / 4900) loss: 1.075412\n",
            "(Iteration 3371 / 4900) loss: 1.183604\n",
            "(Iteration 3381 / 4900) loss: 1.124367\n",
            "(Iteration 3391 / 4900) loss: 1.260242\n",
            "(Iteration 3401 / 4900) loss: 1.248368\n",
            "(Iteration 3411 / 4900) loss: 1.223082\n",
            "(Iteration 3421 / 4900) loss: 1.247949\n",
            "(Epoch 7 / 10) train acc: 0.585000; val_acc: 0.497000\n",
            "(Iteration 3431 / 4900) loss: 1.207401\n",
            "(Iteration 3441 / 4900) loss: 1.216919\n",
            "(Iteration 3451 / 4900) loss: 1.311883\n",
            "(Iteration 3461 / 4900) loss: 1.200787\n",
            "(Iteration 3471 / 4900) loss: 1.279178\n",
            "(Iteration 3481 / 4900) loss: 1.226519\n",
            "(Iteration 3491 / 4900) loss: 1.053260\n",
            "(Iteration 3501 / 4900) loss: 1.105046\n",
            "(Iteration 3511 / 4900) loss: 1.060662\n",
            "(Iteration 3521 / 4900) loss: 1.101326\n",
            "(Iteration 3531 / 4900) loss: 1.150605\n",
            "(Iteration 3541 / 4900) loss: 1.297226\n",
            "(Iteration 3551 / 4900) loss: 1.227976\n",
            "(Iteration 3561 / 4900) loss: 0.893616\n",
            "(Iteration 3571 / 4900) loss: 1.178474\n",
            "(Iteration 3581 / 4900) loss: 1.158419\n",
            "(Iteration 3591 / 4900) loss: 1.257221\n",
            "(Iteration 3601 / 4900) loss: 1.209696\n",
            "(Iteration 3611 / 4900) loss: 1.083241\n",
            "(Iteration 3621 / 4900) loss: 1.223703\n",
            "(Iteration 3631 / 4900) loss: 1.398302\n",
            "(Iteration 3641 / 4900) loss: 1.102290\n",
            "(Iteration 3651 / 4900) loss: 1.198872\n",
            "(Iteration 3661 / 4900) loss: 1.036303\n",
            "(Iteration 3671 / 4900) loss: 1.235706\n",
            "(Iteration 3681 / 4900) loss: 1.207566\n",
            "(Iteration 3691 / 4900) loss: 1.393142\n",
            "(Iteration 3701 / 4900) loss: 0.902446\n",
            "(Iteration 3711 / 4900) loss: 1.192663\n",
            "(Iteration 3721 / 4900) loss: 1.209793\n",
            "(Iteration 3731 / 4900) loss: 1.035067\n",
            "(Iteration 3741 / 4900) loss: 1.237967\n",
            "(Iteration 3751 / 4900) loss: 1.242616\n",
            "(Iteration 3761 / 4900) loss: 1.043257\n",
            "(Iteration 3771 / 4900) loss: 1.090090\n",
            "(Iteration 3781 / 4900) loss: 1.087484\n",
            "(Iteration 3791 / 4900) loss: 1.162276\n",
            "(Iteration 3801 / 4900) loss: 1.012717\n",
            "(Iteration 3811 / 4900) loss: 1.230907\n",
            "(Iteration 3821 / 4900) loss: 1.117666\n",
            "(Iteration 3831 / 4900) loss: 1.125517\n",
            "(Iteration 3841 / 4900) loss: 1.316879\n",
            "(Iteration 3851 / 4900) loss: 1.255574\n",
            "(Iteration 3861 / 4900) loss: 1.236236\n",
            "(Iteration 3871 / 4900) loss: 1.085320\n",
            "(Iteration 3881 / 4900) loss: 1.112873\n",
            "(Iteration 3891 / 4900) loss: 0.973009\n",
            "(Iteration 3901 / 4900) loss: 1.329077\n",
            "(Iteration 3911 / 4900) loss: 1.391299\n",
            "(Epoch 8 / 10) train acc: 0.570000; val_acc: 0.492000\n",
            "(Iteration 3921 / 4900) loss: 1.165486\n",
            "(Iteration 3931 / 4900) loss: 1.377557\n",
            "(Iteration 3941 / 4900) loss: 1.188151\n",
            "(Iteration 3951 / 4900) loss: 1.054284\n",
            "(Iteration 3961 / 4900) loss: 1.074911\n",
            "(Iteration 3971 / 4900) loss: 1.137968\n",
            "(Iteration 3981 / 4900) loss: 1.131889\n",
            "(Iteration 3991 / 4900) loss: 1.000801\n",
            "(Iteration 4001 / 4900) loss: 1.200586\n",
            "(Iteration 4011 / 4900) loss: 0.948478\n",
            "(Iteration 4021 / 4900) loss: 1.153716\n",
            "(Iteration 4031 / 4900) loss: 1.119371\n",
            "(Iteration 4041 / 4900) loss: 1.156983\n",
            "(Iteration 4051 / 4900) loss: 1.061042\n",
            "(Iteration 4061 / 4900) loss: 0.917632\n",
            "(Iteration 4071 / 4900) loss: 1.055182\n",
            "(Iteration 4081 / 4900) loss: 1.083339\n",
            "(Iteration 4091 / 4900) loss: 0.990810\n",
            "(Iteration 4101 / 4900) loss: 1.120905\n",
            "(Iteration 4111 / 4900) loss: 1.026332\n",
            "(Iteration 4121 / 4900) loss: 1.105431\n",
            "(Iteration 4131 / 4900) loss: 1.211395\n",
            "(Iteration 4141 / 4900) loss: 1.286572\n",
            "(Iteration 4151 / 4900) loss: 1.306554\n",
            "(Iteration 4161 / 4900) loss: 0.948301\n",
            "(Iteration 4171 / 4900) loss: 1.073952\n",
            "(Iteration 4181 / 4900) loss: 1.252812\n",
            "(Iteration 4191 / 4900) loss: 1.180129\n",
            "(Iteration 4201 / 4900) loss: 1.181190\n",
            "(Iteration 4211 / 4900) loss: 1.115538\n",
            "(Iteration 4221 / 4900) loss: 1.356383\n",
            "(Iteration 4231 / 4900) loss: 1.016882\n",
            "(Iteration 4241 / 4900) loss: 1.228602\n",
            "(Iteration 4251 / 4900) loss: 1.166743\n",
            "(Iteration 4261 / 4900) loss: 1.134171\n",
            "(Iteration 4271 / 4900) loss: 0.965244\n",
            "(Iteration 4281 / 4900) loss: 1.205754\n",
            "(Iteration 4291 / 4900) loss: 1.061795\n",
            "(Iteration 4301 / 4900) loss: 1.040985\n",
            "(Iteration 4311 / 4900) loss: 0.994641\n",
            "(Iteration 4321 / 4900) loss: 0.972313\n",
            "(Iteration 4331 / 4900) loss: 1.336847\n",
            "(Iteration 4341 / 4900) loss: 0.969692\n",
            "(Iteration 4351 / 4900) loss: 1.229374\n",
            "(Iteration 4361 / 4900) loss: 1.010063\n",
            "(Iteration 4371 / 4900) loss: 1.337277\n",
            "(Iteration 4381 / 4900) loss: 1.298756\n",
            "(Iteration 4391 / 4900) loss: 1.137066\n",
            "(Iteration 4401 / 4900) loss: 1.000912\n",
            "(Epoch 9 / 10) train acc: 0.619000; val_acc: 0.509000\n",
            "(Iteration 4411 / 4900) loss: 1.167770\n",
            "(Iteration 4421 / 4900) loss: 1.091979\n",
            "(Iteration 4431 / 4900) loss: 1.270799\n",
            "(Iteration 4441 / 4900) loss: 1.262100\n",
            "(Iteration 4451 / 4900) loss: 1.286501\n",
            "(Iteration 4461 / 4900) loss: 1.226951\n",
            "(Iteration 4471 / 4900) loss: 1.212216\n",
            "(Iteration 4481 / 4900) loss: 1.057409\n",
            "(Iteration 4491 / 4900) loss: 0.980037\n",
            "(Iteration 4501 / 4900) loss: 1.217813\n",
            "(Iteration 4511 / 4900) loss: 1.192282\n",
            "(Iteration 4521 / 4900) loss: 1.229176\n",
            "(Iteration 4531 / 4900) loss: 1.100739\n",
            "(Iteration 4541 / 4900) loss: 1.349818\n",
            "(Iteration 4551 / 4900) loss: 1.109487\n",
            "(Iteration 4561 / 4900) loss: 1.067745\n",
            "(Iteration 4571 / 4900) loss: 0.817978\n",
            "(Iteration 4581 / 4900) loss: 1.080101\n",
            "(Iteration 4591 / 4900) loss: 1.095878\n",
            "(Iteration 4601 / 4900) loss: 1.088100\n",
            "(Iteration 4611 / 4900) loss: 1.040080\n",
            "(Iteration 4621 / 4900) loss: 1.147245\n",
            "(Iteration 4631 / 4900) loss: 1.042890\n",
            "(Iteration 4641 / 4900) loss: 1.027754\n",
            "(Iteration 4651 / 4900) loss: 1.058777\n",
            "(Iteration 4661 / 4900) loss: 1.070189\n",
            "(Iteration 4671 / 4900) loss: 0.934643\n",
            "(Iteration 4681 / 4900) loss: 0.838881\n",
            "(Iteration 4691 / 4900) loss: 1.092915\n",
            "(Iteration 4701 / 4900) loss: 1.114834\n",
            "(Iteration 4711 / 4900) loss: 1.322559\n",
            "(Iteration 4721 / 4900) loss: 1.313649\n",
            "(Iteration 4731 / 4900) loss: 1.254110\n",
            "(Iteration 4741 / 4900) loss: 1.098947\n",
            "(Iteration 4751 / 4900) loss: 1.090765\n",
            "(Iteration 4761 / 4900) loss: 1.212773\n",
            "(Iteration 4771 / 4900) loss: 1.239537\n",
            "(Iteration 4781 / 4900) loss: 0.993547\n",
            "(Iteration 4791 / 4900) loss: 1.251991\n",
            "(Iteration 4801 / 4900) loss: 1.224785\n",
            "(Iteration 4811 / 4900) loss: 1.198551\n",
            "(Iteration 4821 / 4900) loss: 1.157052\n",
            "(Iteration 4831 / 4900) loss: 1.227294\n",
            "(Iteration 4841 / 4900) loss: 1.081338\n",
            "(Iteration 4851 / 4900) loss: 1.265731\n",
            "(Iteration 4861 / 4900) loss: 0.907734\n",
            "(Iteration 4871 / 4900) loss: 1.291181\n",
            "(Iteration 4881 / 4900) loss: 1.062648\n",
            "(Iteration 4891 / 4900) loss: 0.981349\n",
            "(Epoch 10 / 10) train acc: 0.623000; val_acc: 0.519000\n"
          ],
          "name": "stdout"
        }
      ]
    },
    {
      "cell_type": "code",
      "metadata": {
        "colab": {
          "base_uri": "https://localhost:8080/",
          "height": 690
        },
        "collapsed": true,
        "id": "qJvUljVh5il2",
        "outputId": "62f5be1e-3f9f-4bb3-a123-0515e6420b0a"
      },
      "source": [
        "# Run this cell to visualize training loss and train / val accuracy, and save the log file of the\n",
        "# experiment for submission.\n",
        "\n",
        "plt.subplot(2, 1, 1)\n",
        "plt.title('Training loss')\n",
        "plt.plot(solver.loss_history, 'o')\n",
        "plt.xlabel('Iteration')\n",
        "\n",
        "plt.subplot(2, 1, 2)\n",
        "plt.title('Accuracy')\n",
        "plt.plot(solver.train_acc_history, '-o', label='train')\n",
        "plt.plot(solver.val_acc_history, '-o', label='val')\n",
        "plt.plot([0.5] * len(solver.val_acc_history), 'k--')\n",
        "plt.xlabel('Epoch')\n",
        "plt.legend(loc='lower right')\n",
        "plt.gcf().set_size_inches(15, 12)\n",
        "plt.show()\n",
        "\n",
        "###\n",
        "from google.colab import drive\n",
        "drive.mount('/content/drive')\n",
        "###\n",
        "\n",
        "###solver.record_histories_as_npz('submission_logs/train_2layer_fc.npz')\n",
        "solver.record_histories_as_npz('/content/drive/My Drive/assignment1/submission_logs/train_2layer_fc.npz')"
      ],
      "execution_count": 11,
      "outputs": [
        {
          "output_type": "display_data",
          "data": {
            "image/png": "[encoded data removed]",
            "text/plain": [
              "<Figure size 1080x864 with 2 Axes>"
            ]
          },
          "metadata": {
            "tags": [],
            "needs_background": "light"
          }
        },
        {
          "output_type": "stream",
          "text": [
            "Mounted at /content/drive\n"
          ],
          "name": "stdout"
        }
      ]
    },
    {
      "cell_type": "markdown",
      "metadata": {
        "id": "WEgCq6n_5il3"
      },
      "source": [
        "# Multilayer network\n",
        "Next you will implement a fully-connected network with an arbitrary number of hidden layers.\n",
        "\n",
        "Read through the `FullyConnectedNet` class in the file `deeplearning/classifiers/fc_net.py`.\n",
        "\n",
        "Implement the initialization, the forward pass, and the backward pass. For the moment don't worry about implementing dropout or batch normalization; we will add those features soon."
      ]
    },
    {
      "cell_type": "markdown",
      "metadata": {
        "id": "a5AWH9xZ5il3"
      },
      "source": [
        "## Initial loss and gradient check"
      ]
    },
    {
      "cell_type": "markdown",
      "metadata": {
        "id": "OTdQVfl15il3"
      },
      "source": [
        "As a sanity check, run the following to check the initial loss and to gradient check the network both with and without regularization. Do the initial losses seem reasonable?\n",
        "\n",
        "For gradient checking, you should expect to see errors around 1e-6 or less."
      ]
    },
    {
      "cell_type": "code",
      "metadata": {
        "colab": {
          "base_uri": "https://localhost:8080/"
        },
        "id": "CYt5jvQ55il3",
        "outputId": "eeb74b7f-26b7-4e41-cc10-ffeb8ac0a84a"
      },
      "source": [
        "N, D, H1, H2, C = 2, 15, 20, 30, 10\n",
        "X = np.random.randn(N, D)\n",
        "y = np.random.randint(C, size=(N,))\n",
        "\n",
        "for reg in [0, 3.14]:\n",
        "    print ('Running check with reg = ', reg)\n",
        "    model = FullyConnectedNet([H1, H2], input_dim=D, num_classes=C,\n",
        "                              reg=reg, weight_scale=5e-2, dtype=np.float64)\n",
        "\n",
        "    loss, grads = model.loss(X, y)\n",
        "    print ('Initial loss: ', loss)\n",
        "\n",
        "    for name in sorted(grads):\n",
        "        f = lambda _: model.loss(X, y)[0]\n",
        "        grad_num = eval_numerical_gradient(f, model.params[name], verbose=False, h=1e-5)\n",
        "        print ('%s relative error: %.2e' % (name, rel_error(grad_num, grads[name])))"
      ],
      "execution_count": 12,
      "outputs": [
        {
          "output_type": "stream",
          "text": [
            "Running check with reg =  0\n",
            "Initial loss:  2.300719247741794\n",
            "W1 relative error: 3.75e-07\n",
            "W2 relative error: 3.40e-06\n",
            "W3 relative error: 2.46e-07\n",
            "b1 relative error: 2.13e-08\n",
            "b2 relative error: 5.88e-08\n",
            "b3 relative error: 1.74e-10\n",
            "Running check with reg =  3.14\n",
            "Initial loss:  6.963316812719892\n",
            "W1 relative error: 3.98e-08\n",
            "W2 relative error: 5.01e-08\n",
            "W3 relative error: 3.65e-08\n",
            "b1 relative error: 1.35e-08\n",
            "b2 relative error: 1.84e-08\n",
            "b3 relative error: 1.95e-10\n"
          ],
          "name": "stdout"
        }
      ]
    },
    {
      "cell_type": "markdown",
      "metadata": {
        "id": "GWxIGvc35il3"
      },
      "source": [
        "As another sanity check, make sure you can overfit a small dataset of 50 images. First we will try a three-layer network with 100 units in each hidden layer. You will need to tweak the learning rate and initialization scale, but you should be able to overfit and achieve 100% training accuracy within 20 epochs."
      ]
    },
    {
      "cell_type": "code",
      "metadata": {
        "colab": {
          "base_uri": "https://localhost:8080/",
          "height": 785
        },
        "id": "krQWYhZH5il4",
        "scrolled": false,
        "outputId": "8a0cca21-71a0-41cd-8d1f-b57c31489e4d"
      },
      "source": [
        "# TODO: Use a three-layer Net to overfit 50 training examples.\n",
        "\n",
        "num_train = 50\n",
        "small_data = {\n",
        "  'X_train': data['X_train'][:num_train],\n",
        "  'y_train': data['y_train'][:num_train],\n",
        "  'X_val': data['X_val'],\n",
        "  'y_val': data['y_val'],\n",
        "}\n",
        "\n",
        "############################################################################\n",
        "# TODO: Tune these parameters to get 100% train accuracy within 20 epochs. #\n",
        "############################################################################\n",
        "weight_scale = 1e-1\n",
        "learning_rate = 1e-3\n",
        "############################################################################\n",
        "#                             END OF YOUR CODE                             #\n",
        "############################################################################\n",
        "\n",
        "model = FullyConnectedNet([100, 100],\n",
        "              weight_scale=weight_scale, dtype=np.float64)\n",
        "solver = Solver(model, small_data,\n",
        "                print_every=10, num_epochs=20, batch_size=25,\n",
        "                update_rule='sgd',\n",
        "                optim_config={\n",
        "                  'learning_rate': learning_rate,\n",
        "                }\n",
        "         )\n",
        "solver.train()\n",
        "\n",
        "plt.plot(solver.loss_history, 'o')\n",
        "plt.title('Training loss history')\n",
        "plt.xlabel('Iteration')\n",
        "plt.ylabel('Training loss')\n",
        "plt.show()\n",
        "\n",
        "###solver.record_histories_as_npz('submission_logs/overfit_3layer_fc.npz')\n",
        "solver.record_histories_as_npz('/content/drive/My Drive/assignment1/submission_logs/overfit_3layer_fc.npz')"
      ],
      "execution_count": 13,
      "outputs": [
        {
          "output_type": "stream",
          "text": [
            "(Iteration 1 / 40) loss: 194.650359\n",
            "(Epoch 0 / 20) train acc: 0.180000; val_acc: 0.129000\n",
            "(Epoch 1 / 20) train acc: 0.320000; val_acc: 0.111000\n",
            "(Epoch 2 / 20) train acc: 0.520000; val_acc: 0.176000\n"
          ],
          "name": "stdout"
        },
        {
          "output_type": "stream",
          "text": [
            "/content/deeplearning/layers.py:722: RuntimeWarning: divide by zero encountered in log\n",
            "  loss = -np.sum(np.log(probs[np.arange(N), y])) / N\n"
          ],
          "name": "stderr"
        },
        {
          "output_type": "stream",
          "text": [
            "(Epoch 3 / 20) train acc: 0.640000; val_acc: 0.175000\n",
            "(Epoch 4 / 20) train acc: 0.840000; val_acc: 0.174000\n",
            "(Epoch 5 / 20) train acc: 0.920000; val_acc: 0.174000\n",
            "(Iteration 11 / 40) loss: 8.952624\n",
            "(Epoch 6 / 20) train acc: 0.980000; val_acc: 0.165000\n",
            "(Epoch 7 / 20) train acc: 0.980000; val_acc: 0.165000\n",
            "(Epoch 8 / 20) train acc: 1.000000; val_acc: 0.175000\n",
            "(Epoch 9 / 20) train acc: 1.000000; val_acc: 0.175000\n",
            "(Epoch 10 / 20) train acc: 1.000000; val_acc: 0.175000\n",
            "(Iteration 21 / 40) loss: 0.000000\n",
            "(Epoch 11 / 20) train acc: 1.000000; val_acc: 0.175000\n",
            "(Epoch 12 / 20) train acc: 1.000000; val_acc: 0.175000\n",
            "(Epoch 13 / 20) train acc: 1.000000; val_acc: 0.175000\n",
            "(Epoch 14 / 20) train acc: 1.000000; val_acc: 0.175000\n",
            "(Epoch 15 / 20) train acc: 1.000000; val_acc: 0.175000\n",
            "(Iteration 31 / 40) loss: 0.000019\n",
            "(Epoch 16 / 20) train acc: 1.000000; val_acc: 0.175000\n",
            "(Epoch 17 / 20) train acc: 1.000000; val_acc: 0.175000\n",
            "(Epoch 18 / 20) train acc: 1.000000; val_acc: 0.175000\n",
            "(Epoch 19 / 20) train acc: 1.000000; val_acc: 0.175000\n",
            "(Epoch 20 / 20) train acc: 1.000000; val_acc: 0.175000\n"
          ],
          "name": "stdout"
        },
        {
          "output_type": "display_data",
          "data": {
            "image/png": "[encoded data removed]",
            "text/plain": [
              "<Figure size 432x288 with 1 Axes>"
            ]
          },
          "metadata": {
            "tags": [],
            "needs_background": "light"
          }
        }
      ]
    },
    {
      "cell_type": "markdown",
      "metadata": {
        "id": "ckp0T5ck5il4"
      },
      "source": [
        "Now try to use a five-layer network with 100 units on each layer to overfit 50 training examples. Again you will have to adjust the learning rate and weight initialization, but you should be able to achieve 100% training accuracy within 20 epochs."
      ]
    },
    {
      "cell_type": "code",
      "metadata": {
        "colab": {
          "base_uri": "https://localhost:8080/",
          "height": 749
        },
        "collapsed": true,
        "id": "Zds99Vdk5il4",
        "outputId": "79ff4024-5f97-4823-c488-f1d2012f0d7a"
      },
      "source": [
        "## TODO: Use a five-layer Net to overfit 50 training examples.\n",
        "\n",
        "num_train = 50\n",
        "small_data = {\n",
        "  'X_train': data['X_train'][:num_train],\n",
        "  'y_train': data['y_train'][:num_train],\n",
        "  'X_val': data['X_val'],\n",
        "  'y_val': data['y_val'],\n",
        "}\n",
        "\n",
        "############################################################################\n",
        "# TODO: Tune these parameters to get 100% train accuracy within 20 epochs. #\n",
        "############################################################################\n",
        "learning_rate = 1e-3\n",
        "weight_scale = 1e-1\n",
        "############################################################################\n",
        "#                             END OF YOUR CODE                             #\n",
        "############################################################################\n",
        "\n",
        "model = FullyConnectedNet([100, 100, 100, 100],\n",
        "                weight_scale=weight_scale, dtype=np.float64)\n",
        "solver = Solver(model, small_data,\n",
        "                print_every=10, num_epochs=20, batch_size=25,\n",
        "                update_rule='sgd',\n",
        "                optim_config={\n",
        "                  'learning_rate': learning_rate,\n",
        "                }\n",
        "         )\n",
        "solver.train()\n",
        "\n",
        "plt.plot(solver.loss_history, 'o')\n",
        "plt.title('Training loss history')\n",
        "plt.xlabel('Iteration')\n",
        "plt.ylabel('Training loss')\n",
        "plt.show()\n",
        "\n",
        "###solver.record_histories_as_npz('submission_logs/overfit_5layer_fc.npz')\n",
        "solver.record_histories_as_npz('/content/drive/My Drive/assignment1/submission_logs/overfit_5layer_fc.npz')"
      ],
      "execution_count": 14,
      "outputs": [
        {
          "output_type": "stream",
          "text": [
            "(Iteration 1 / 40) loss: 91.186292\n",
            "(Epoch 0 / 20) train acc: 0.280000; val_acc: 0.100000\n",
            "(Epoch 1 / 20) train acc: 0.240000; val_acc: 0.118000\n",
            "(Epoch 2 / 20) train acc: 0.480000; val_acc: 0.112000\n",
            "(Epoch 3 / 20) train acc: 0.540000; val_acc: 0.110000\n",
            "(Epoch 4 / 20) train acc: 0.800000; val_acc: 0.116000\n",
            "(Epoch 5 / 20) train acc: 0.640000; val_acc: 0.126000\n",
            "(Iteration 11 / 40) loss: 10.014264\n",
            "(Epoch 6 / 20) train acc: 0.860000; val_acc: 0.128000\n",
            "(Epoch 7 / 20) train acc: 0.940000; val_acc: 0.129000\n",
            "(Epoch 8 / 20) train acc: 0.960000; val_acc: 0.130000\n",
            "(Epoch 9 / 20) train acc: 0.980000; val_acc: 0.129000\n",
            "(Epoch 10 / 20) train acc: 1.000000; val_acc: 0.129000\n",
            "(Iteration 21 / 40) loss: 0.001124\n",
            "(Epoch 11 / 20) train acc: 1.000000; val_acc: 0.129000\n",
            "(Epoch 12 / 20) train acc: 1.000000; val_acc: 0.129000\n",
            "(Epoch 13 / 20) train acc: 1.000000; val_acc: 0.129000\n",
            "(Epoch 14 / 20) train acc: 1.000000; val_acc: 0.129000\n",
            "(Epoch 15 / 20) train acc: 1.000000; val_acc: 0.129000\n",
            "(Iteration 31 / 40) loss: 0.000459\n",
            "(Epoch 16 / 20) train acc: 1.000000; val_acc: 0.129000\n",
            "(Epoch 17 / 20) train acc: 1.000000; val_acc: 0.129000\n",
            "(Epoch 18 / 20) train acc: 1.000000; val_acc: 0.129000\n",
            "(Epoch 19 / 20) train acc: 1.000000; val_acc: 0.129000\n",
            "(Epoch 20 / 20) train acc: 1.000000; val_acc: 0.129000\n"
          ],
          "name": "stdout"
        },
        {
          "output_type": "display_data",
          "data": {
            "image/png": "[encoded data removed]",
            "text/plain": [
              "<Figure size 432x288 with 1 Axes>"
            ]
          },
          "metadata": {
            "tags": [],
            "needs_background": "light"
          }
        }
      ]
    },
    {
      "cell_type": "markdown",
      "metadata": {
        "id": "TkAdn4kK5il4"
      },
      "source": [
        "# Inline question: \n",
        "Did you notice anything about the comparative difficulty of training the three-layer net vs training the five layer net?\n",
        "\n",
        "# Answer:\n",
        "[FILL THIS IN]\n"
      ]
    },
    {
      "cell_type": "markdown",
      "metadata": {
        "id": "3PATxioC5il4"
      },
      "source": [
        "# Update rules\n",
        "So far we have used vanilla stochastic gradient descent (SGD) as our update rule. More sophisticated update rules can make it easier to train deep networks. We will implement a few of the most commonly used update rules and compare them to vanilla SGD."
      ]
    },
    {
      "cell_type": "markdown",
      "metadata": {
        "id": "7NvU5Apo5il5"
      },
      "source": [
        "# SGD+Momentum\n",
        "Stochastic gradient descent with momentum is a widely used update rule that tends to make deep networks converge faster than vanilla stochstic gradient descent.\n",
        "\n",
        "Open the file `deeplearning/optim.py` and read the documentation at the top of the file to make sure you understand the API. Implement the SGD+momentum update rule in the function `sgd_momentum` and run the following to check your implementation. You should see errors less than 1e-8."
      ]
    },
    {
      "cell_type": "code",
      "metadata": {
        "id": "MBrS_5lp5il5",
        "colab": {
          "base_uri": "https://localhost:8080/"
        },
        "outputId": "1c42147d-d9de-4882-a4be-81e0059e4307"
      },
      "source": [
        "from deeplearning.optim import sgd_momentum\n",
        "\n",
        "N, D = 4, 5\n",
        "w = np.linspace(-0.4, 0.6, num=N*D).reshape(N, D)\n",
        "dw = np.linspace(0.5, 1.5, num=N*D).reshape(N, D)\n",
        "v = np.linspace(0.6, 0.9, num=N*D).reshape(N, D)\n",
        "\n",
        "config = {'learning_rate': 1e-1, 'velocity': v}\n",
        "next_w, _ = sgd_momentum(w, dw, config=config)\n",
        "\n",
        "expected_next_w = np.asarray([\n",
        " [-0.504,      -0.45805263, -0.41210526, -0.36615789, -0.32021053],\n",
        " [-0.27426316, -0.22831579, -0.18236842, -0.13642105, -0.09047368],\n",
        " [-0.04452632,  0.00142105,  0.04736842,  0.09331579,  0.13926316],\n",
        " [ 0.18521053,  0.23115789,  0.27710526,  0.32305263,  0.369     ]])\n",
        "\n",
        "expected_velocity = np.asarray([\n",
        " [1.04,       1.10684211, 1.17368421, 1.24052632, 1.30736842],\n",
        " [1.37421053, 1.44105263, 1.50789474, 1.57473684, 1.64157895],\n",
        " [1.70842105, 1.77526316, 1.84210526, 1.90894737, 1.97578947],\n",
        " [2.04263158, 2.10947368, 2.17631579, 2.24315789, 2.31      ]])\n",
        "\n",
        "print ('next_w error: ', rel_error(next_w, expected_next_w))\n",
        "print ('velocity error: ', rel_error(expected_velocity, config['velocity']))"
      ],
      "execution_count": 15,
      "outputs": [
        {
          "output_type": "stream",
          "text": [
            "next_w error:  9.259267785377383e-07\n",
            "velocity error:  2.1398003469119033e-09\n"
          ],
          "name": "stdout"
        }
      ]
    },
    {
      "cell_type": "markdown",
      "metadata": {
        "id": "k2rJKnJA5il5"
      },
      "source": [
        "Once you have done so, run the following to train a six-layer network with both SGD and SGD+momentum. You should see the SGD+momentum update rule converge a bit faster."
      ]
    },
    {
      "cell_type": "code",
      "metadata": {
        "id": "NrwkW9HB5il5",
        "scrolled": false,
        "colab": {
          "base_uri": "https://localhost:8080/",
          "height": 1000
        },
        "outputId": "8ed595a1-1ff6-4ee3-d466-c4c827200a3b"
      },
      "source": [
        "num_train = 4000\n",
        "small_data = {\n",
        "  'X_train': data['X_train'][:num_train],\n",
        "  'y_train': data['y_train'][:num_train],\n",
        "  'X_val': data['X_val'],\n",
        "  'y_val': data['y_val'],\n",
        "}\n",
        "\n",
        "solvers = {}\n",
        "\n",
        "for update_rule in ['sgd', 'sgd_momentum']:\n",
        "    print ('running with ', update_rule)\n",
        "    model = FullyConnectedNet([100, 100, 100, 100, 100], weight_scale=5e-2)\n",
        "\n",
        "    solver = Solver(model, small_data,\n",
        "                  num_epochs=5, batch_size=100,\n",
        "                  update_rule=update_rule,\n",
        "                  optim_config={\n",
        "                    'learning_rate': 1e-2,\n",
        "                  },\n",
        "                  verbose=True)\n",
        "    solvers[update_rule] = solver\n",
        "    solver.train()\n",
        "    ###solver.record_histories_as_npz(\"submission_logs/optimizer_experiment_{}\".format(update_rule))\n",
        "    solver.record_histories_as_npz(\"/content/drive/My Drive/assignment1/submission_logs/optimizer_experiment_{}\".format(update_rule))\n",
        "    print\n",
        "\n",
        "plt.subplot(3, 1, 1)\n",
        "plt.title('Training loss')\n",
        "plt.xlabel('Iteration')\n",
        "\n",
        "plt.subplot(3, 1, 2)\n",
        "plt.title('Training accuracy')\n",
        "plt.xlabel('Epoch')\n",
        "\n",
        "plt.subplot(3, 1, 3)\n",
        "plt.title('Validation accuracy')\n",
        "plt.xlabel('Epoch')\n",
        "\n",
        "for update_rule, solver in solvers.items():\n",
        "    plt.subplot(3, 1, 1)\n",
        "    plt.plot(solver.loss_history, 'o', label=update_rule)\n",
        "\n",
        "    plt.subplot(3, 1, 2)\n",
        "    plt.plot(solver.train_acc_history, '-o', label=update_rule)\n",
        "\n",
        "    plt.subplot(3, 1, 3)\n",
        "    plt.plot(solver.val_acc_history, '-o', label=update_rule)\n",
        "\n",
        "for i in [1, 2, 3]:\n",
        "    plt.subplot(3, 1, i)\n",
        "    plt.legend(loc='upper center', ncol=4)\n",
        "plt.gcf().set_size_inches(15, 15)\n",
        "plt.show()"
      ],
      "execution_count": 17,
      "outputs": [
        {
          "output_type": "stream",
          "text": [
            "running with  sgd\n",
            "(Iteration 1 / 200) loss: 2.509310\n",
            "(Epoch 0 / 5) train acc: 0.120000; val_acc: 0.114000\n",
            "(Iteration 11 / 200) loss: 2.210739\n",
            "(Iteration 21 / 200) loss: 2.047654\n",
            "(Iteration 31 / 200) loss: 2.103576\n",
            "(Epoch 1 / 5) train acc: 0.266000; val_acc: 0.239000\n",
            "(Iteration 41 / 200) loss: 1.909604\n",
            "(Iteration 51 / 200) loss: 2.053104\n",
            "(Iteration 61 / 200) loss: 1.999417\n",
            "(Iteration 71 / 200) loss: 1.836427\n",
            "(Epoch 2 / 5) train acc: 0.302000; val_acc: 0.268000\n",
            "(Iteration 81 / 200) loss: 1.988729\n",
            "(Iteration 91 / 200) loss: 1.936786\n",
            "(Iteration 101 / 200) loss: 1.838196\n",
            "(Iteration 111 / 200) loss: 1.859590\n",
            "(Epoch 3 / 5) train acc: 0.370000; val_acc: 0.279000\n",
            "(Iteration 121 / 200) loss: 2.001533\n",
            "(Iteration 131 / 200) loss: 1.831715\n",
            "(Iteration 141 / 200) loss: 1.630819\n",
            "(Iteration 151 / 200) loss: 1.663842\n",
            "(Epoch 4 / 5) train acc: 0.388000; val_acc: 0.320000\n",
            "(Iteration 161 / 200) loss: 1.676891\n",
            "(Iteration 171 / 200) loss: 1.640188\n",
            "(Iteration 181 / 200) loss: 1.704514\n",
            "(Iteration 191 / 200) loss: 1.699391\n",
            "(Epoch 5 / 5) train acc: 0.376000; val_acc: 0.322000\n",
            "running with  sgd_momentum\n",
            "(Iteration 1 / 200) loss: 2.900885\n",
            "(Epoch 0 / 5) train acc: 0.100000; val_acc: 0.105000\n",
            "(Iteration 11 / 200) loss: 2.227547\n",
            "(Iteration 21 / 200) loss: 2.082413\n",
            "(Iteration 31 / 200) loss: 1.799822\n",
            "(Epoch 1 / 5) train acc: 0.295000; val_acc: 0.269000\n",
            "(Iteration 41 / 200) loss: 2.145943\n",
            "(Iteration 51 / 200) loss: 1.874018\n",
            "(Iteration 61 / 200) loss: 1.931399\n",
            "(Iteration 71 / 200) loss: 1.765590\n",
            "(Epoch 2 / 5) train acc: 0.377000; val_acc: 0.310000\n",
            "(Iteration 81 / 200) loss: 1.798214\n",
            "(Iteration 91 / 200) loss: 1.519809\n",
            "(Iteration 101 / 200) loss: 1.653280\n",
            "(Iteration 111 / 200) loss: 1.847587\n",
            "(Epoch 3 / 5) train acc: 0.460000; val_acc: 0.336000\n",
            "(Iteration 121 / 200) loss: 1.459483\n",
            "(Iteration 131 / 200) loss: 1.638868\n",
            "(Iteration 141 / 200) loss: 1.627513\n",
            "(Iteration 151 / 200) loss: 1.608047\n",
            "(Epoch 4 / 5) train acc: 0.481000; val_acc: 0.331000\n",
            "(Iteration 161 / 200) loss: 1.615806\n",
            "(Iteration 171 / 200) loss: 1.538151\n",
            "(Iteration 181 / 200) loss: 1.540979\n",
            "(Iteration 191 / 200) loss: 1.401718\n",
            "(Epoch 5 / 5) train acc: 0.509000; val_acc: 0.332000\n"
          ],
          "name": "stdout"
        },
        {
          "output_type": "stream",
          "text": [
            "/usr/local/lib/python3.6/dist-packages/ipykernel_launcher.py:41: MatplotlibDeprecationWarning: Adding an axes using the same arguments as a previous axes currently reuses the earlier instance.  In a future version, a new instance will always be created and returned.  Meanwhile, this warning can be suppressed, and the future behavior ensured, by passing a unique label to each axes instance.\n",
            "/usr/local/lib/python3.6/dist-packages/ipykernel_launcher.py:44: MatplotlibDeprecationWarning: Adding an axes using the same arguments as a previous axes currently reuses the earlier instance.  In a future version, a new instance will always be created and returned.  Meanwhile, this warning can be suppressed, and the future behavior ensured, by passing a unique label to each axes instance.\n",
            "/usr/local/lib/python3.6/dist-packages/ipykernel_launcher.py:47: MatplotlibDeprecationWarning: Adding an axes using the same arguments as a previous axes currently reuses the earlier instance.  In a future version, a new instance will always be created and returned.  Meanwhile, this warning can be suppressed, and the future behavior ensured, by passing a unique label to each axes instance.\n",
            "/usr/local/lib/python3.6/dist-packages/ipykernel_launcher.py:51: MatplotlibDeprecationWarning: Adding an axes using the same arguments as a previous axes currently reuses the earlier instance.  In a future version, a new instance will always be created and returned.  Meanwhile, this warning can be suppressed, and the future behavior ensured, by passing a unique label to each axes instance.\n"
          ],
          "name": "stderr"
        },
        {
          "output_type": "display_data",
          "data": {
            "image/png": "[encoded data removed]",
            "text/plain": [
              "<Figure size 1080x1080 with 3 Axes>"
            ]
          },
          "metadata": {
            "tags": [],
            "needs_background": "light"
          }
        }
      ]
    },
    {
      "cell_type": "markdown",
      "metadata": {
        "id": "4cpt4XuH5il5"
      },
      "source": [
        "# RMSProp and Adam\n",
        "RMSProp [1] and Adam [2] are update rules that set per-parameter learning rates by using a running average of the second moments of gradients.\n",
        "\n",
        "In the file `deeplearning/optim.py`, implement the RMSProp update rule in the `rmsprop` function and implement the Adam update rule in the `adam` function, and check your implementations using the tests below.\n",
        "\n",
        "[1] Tijmen Tieleman and Geoffrey Hinton. \"Lecture 6.5-rmsprop: Divide the gradient by a running average of its recent magnitude.\" COURSERA: Neural Networks for Machine Learning 4 (2012).\n",
        "\n",
        "[2] Diederik Kingma and Jimmy Ba, \"Adam: A Method for Stochastic Optimization\", ICLR 2015."
      ]
    },
    {
      "cell_type": "code",
      "metadata": {
        "collapsed": true,
        "id": "OEF7-ifM5il6",
        "colab": {
          "base_uri": "https://localhost:8080/"
        },
        "outputId": "3b944e74-ed8b-4664-ef3e-c97848b73452"
      },
      "source": [
        "# Test RMSProp implementation; you should see errors less than 1e-7.\n",
        "from deeplearning.optim import rmsprop\n",
        "\n",
        "N, D = 4, 5\n",
        "w = np.linspace(-0.4, 0.6, num=N*D).reshape(N, D)\n",
        "dw = np.linspace(-0.6, 0.4, num=N*D).reshape(N, D)\n",
        "cache = np.linspace(0.6, 0.9, num=N*D).reshape(N, D)\n",
        "\n",
        "config = {'learning_rate': 1e-2, 'cache': cache}\n",
        "next_w, _ = rmsprop(w, dw, config=config)\n",
        "\n",
        "expected_next_w = np.asarray([\n",
        "  [-0.39223849, -0.34037513, -0.28849239, -0.23659121, -0.18467247],\n",
        "  [-0.132737,   -0.08078555, -0.02881884,  0.02316247,  0.07515774],\n",
        "  [ 0.12716641,  0.17918792,  0.23122175,  0.28326742,  0.33532447],\n",
        "  [ 0.38739248,  0.43947102,  0.49155973,  0.54365823,  0.59576619]])\n",
        "expected_cache = np.asarray([\n",
        "  [ 0.5976,      0.6126277,   0.6277108,   0.64284931,  0.65804321],\n",
        "  [ 0.67329252,  0.68859723,  0.70395734,  0.71937285,  0.73484377],\n",
        "  [ 0.75037008,  0.7659518,   0.78158892,  0.79728144,  0.81302936],\n",
        "  [ 0.82883269,  0.84469141,  0.86060554,  0.87657507,  0.8926    ]])\n",
        "\n",
        "print ('next_w error: ', rel_error(expected_next_w, next_w))\n",
        "print ('cache error: ', rel_error(expected_cache, config['cache']))"
      ],
      "execution_count": 18,
      "outputs": [
        {
          "output_type": "stream",
          "text": [
            "next_w error:  9.524687511038133e-08\n",
            "cache error:  2.6477955807156126e-09\n"
          ],
          "name": "stdout"
        }
      ]
    },
    {
      "cell_type": "code",
      "metadata": {
        "collapsed": true,
        "id": "SFoj9XVo5il6",
        "colab": {
          "base_uri": "https://localhost:8080/"
        },
        "outputId": "c3064131-3da8-4e45-b4a5-c8e7d43a3031"
      },
      "source": [
        "# Test Adam implementation; you should see errors around 1e-7 or less.\n",
        "from deeplearning.optim import adam\n",
        "\n",
        "N, D = 4, 5\n",
        "w = np.linspace(-0.4, 0.6, num=N*D).reshape(N, D)\n",
        "dw = np.linspace(-0.6, 0.4, num=N*D).reshape(N, D)\n",
        "m = np.linspace(0.6, 0.9, num=N*D).reshape(N, D)\n",
        "v = np.linspace(0.7, 0.5, num=N*D).reshape(N, D)\n",
        "\n",
        "config = {'learning_rate': 1e-2, 'm': m, 'v': v, 't': 5}\n",
        "next_w, _ = adam(w, dw, config=config)\n",
        "\n",
        "expected_next_w = np.asarray([\n",
        "  [-0.40094747, -0.34836187, -0.29577703, -0.24319299, -0.19060977],\n",
        "  [-0.1380274,  -0.08544591, -0.03286534,  0.01971428,  0.0722929],\n",
        "  [ 0.1248705,   0.17744702,  0.23002243,  0.28259667,  0.33516969],\n",
        "  [ 0.38774145,  0.44031188,  0.49288093,  0.54544852,  0.59801459]])\n",
        "expected_v = np.asarray([\n",
        "  [ 0.69966,     0.68908382,  0.67851319,  0.66794809,  0.65738853,],\n",
        "  [ 0.64683452,  0.63628604,  0.6257431,   0.61520571,  0.60467385,],\n",
        "  [ 0.59414753,  0.58362676,  0.57311152,  0.56260183,  0.55209767,],\n",
        "  [ 0.54159906,  0.53110598,  0.52061845,  0.51013645,  0.49966,   ]])\n",
        "expected_m = np.asarray([\n",
        "  [ 0.48,        0.49947368,  0.51894737,  0.53842105,  0.55789474],\n",
        "  [ 0.57736842,  0.59684211,  0.61631579,  0.63578947,  0.65526316],\n",
        "  [ 0.67473684,  0.69421053,  0.71368421,  0.73315789,  0.75263158],\n",
        "  [ 0.77210526,  0.79157895,  0.81105263,  0.83052632,  0.85      ]])\n",
        "expected_t = 6\n",
        "\n",
        "print ('next_w error: ', rel_error(expected_next_w, next_w))\n",
        "print ('v error: ', rel_error(expected_v, config['v']))\n",
        "print ('m error: ', rel_error(expected_m, config['m']))\n",
        "print ('t error: ', rel_error(expected_t, config['t']))"
      ],
      "execution_count": 19,
      "outputs": [
        {
          "output_type": "stream",
          "text": [
            "next_w error:  1.1395691798535431e-07\n",
            "v error:  4.208314038113071e-09\n",
            "m error:  4.214963193114416e-09\n",
            "t error:  0.0\n"
          ],
          "name": "stdout"
        }
      ]
    },
    {
      "cell_type": "markdown",
      "metadata": {
        "id": "biPJw6Et5il6"
      },
      "source": [
        "Once you have debugged your RMSProp and Adam implementations, run the following to train a pair of deep networks using these new update rules. As a sanity check, you should see that RMSProp and Adam typically obtain at least 45% training accuracy within 5 epochs."
      ]
    },
    {
      "cell_type": "code",
      "metadata": {
        "collapsed": true,
        "id": "CEQ_G_aa5il6",
        "colab": {
          "base_uri": "https://localhost:8080/",
          "height": 1000
        },
        "outputId": "b00ca642-6eea-4b10-884a-edbd3b08f664"
      },
      "source": [
        "learning_rates = {'rmsprop': 1e-4, 'adam': 1e-3}\n",
        "for update_rule in ['adam', 'rmsprop']:\n",
        "    print ('running with ', update_rule)\n",
        "    model = FullyConnectedNet([100, 100, 100, 100, 100], weight_scale=5e-2)\n",
        "\n",
        "    solver = Solver(model, small_data,\n",
        "                  num_epochs=5, batch_size=100,\n",
        "                  update_rule=update_rule,\n",
        "                  optim_config={\n",
        "                    'learning_rate': learning_rates[update_rule]\n",
        "                  },\n",
        "                  verbose=True)\n",
        "    solvers[update_rule] = solver\n",
        "    solver.train()\n",
        "    ###solver.record_histories_as_npz(\"submission_logs/optimizer_experiment_{}\".format(update_rule))\n",
        "    solver.record_histories_as_npz(\"/content/drive/My Drive/assignment1/submission_logs/optimizer_experiment_{}\".format(update_rule))\n",
        "    print\n",
        "\n",
        "plt.subplot(3, 1, 1)\n",
        "plt.title('Training loss')\n",
        "plt.xlabel('Iteration')\n",
        "\n",
        "plt.subplot(3, 1, 2)\n",
        "plt.title('Training accuracy')\n",
        "plt.xlabel('Epoch')\n",
        "\n",
        "plt.subplot(3, 1, 3)\n",
        "plt.title('Validation accuracy')\n",
        "plt.xlabel('Epoch')\n",
        "\n",
        "for update_rule, solver in solvers.items():\n",
        "    plt.subplot(3, 1, 1)\n",
        "    plt.plot(solver.loss_history, 'o', label=update_rule)\n",
        "\n",
        "    plt.subplot(3, 1, 2)\n",
        "    plt.plot(solver.train_acc_history, '-o', label=update_rule)\n",
        "\n",
        "    plt.subplot(3, 1, 3)\n",
        "    plt.plot(solver.val_acc_history, '-o', label=update_rule)\n",
        "\n",
        "for i in [1, 2, 3]:\n",
        "    plt.subplot(3, 1, i)\n",
        "    plt.legend(loc='upper center', ncol=4)\n",
        "plt.gcf().set_size_inches(15, 15)\n",
        "plt.show()"
      ],
      "execution_count": 22,
      "outputs": [
        {
          "output_type": "stream",
          "text": [
            "running with  adam\n",
            "(Iteration 1 / 200) loss: 2.478820\n",
            "(Epoch 0 / 5) train acc: 0.151000; val_acc: 0.143000\n",
            "(Iteration 11 / 200) loss: 2.210004\n",
            "(Iteration 21 / 200) loss: 1.840146\n",
            "(Iteration 31 / 200) loss: 1.873155\n",
            "(Epoch 1 / 5) train acc: 0.387000; val_acc: 0.302000\n",
            "(Iteration 41 / 200) loss: 1.763174\n",
            "(Iteration 51 / 200) loss: 1.589843\n",
            "(Iteration 61 / 200) loss: 1.565730\n",
            "(Iteration 71 / 200) loss: 1.491281\n",
            "(Epoch 2 / 5) train acc: 0.468000; val_acc: 0.357000\n",
            "(Iteration 81 / 200) loss: 1.440506\n",
            "(Iteration 91 / 200) loss: 1.386271\n",
            "(Iteration 101 / 200) loss: 1.426115\n",
            "(Iteration 111 / 200) loss: 1.413084\n",
            "(Epoch 3 / 5) train acc: 0.489000; val_acc: 0.356000\n",
            "(Iteration 121 / 200) loss: 1.380991\n",
            "(Iteration 131 / 200) loss: 1.245371\n",
            "(Iteration 141 / 200) loss: 1.319417\n",
            "(Iteration 151 / 200) loss: 1.411799\n",
            "(Epoch 4 / 5) train acc: 0.544000; val_acc: 0.378000\n",
            "(Iteration 161 / 200) loss: 1.338956\n",
            "(Iteration 171 / 200) loss: 1.182865\n",
            "(Iteration 181 / 200) loss: 1.135589\n",
            "(Iteration 191 / 200) loss: 1.169508\n",
            "(Epoch 5 / 5) train acc: 0.604000; val_acc: 0.368000\n",
            "running with  rmsprop\n",
            "(Iteration 1 / 200) loss: 2.436451\n",
            "(Epoch 0 / 5) train acc: 0.125000; val_acc: 0.118000\n",
            "(Iteration 11 / 200) loss: 2.124516\n",
            "(Iteration 21 / 200) loss: 2.034332\n",
            "(Iteration 31 / 200) loss: 1.835122\n",
            "(Epoch 1 / 5) train acc: 0.335000; val_acc: 0.309000\n",
            "(Iteration 41 / 200) loss: 1.832261\n",
            "(Iteration 51 / 200) loss: 1.642786\n",
            "(Iteration 61 / 200) loss: 1.726168\n",
            "(Iteration 71 / 200) loss: 1.791768\n",
            "(Epoch 2 / 5) train acc: 0.465000; val_acc: 0.344000\n",
            "(Iteration 81 / 200) loss: 1.777247\n",
            "(Iteration 91 / 200) loss: 1.530458\n",
            "(Iteration 101 / 200) loss: 1.490726\n",
            "(Iteration 111 / 200) loss: 1.452425\n",
            "(Epoch 3 / 5) train acc: 0.426000; val_acc: 0.364000\n",
            "(Iteration 121 / 200) loss: 1.450244\n",
            "(Iteration 131 / 200) loss: 1.430807\n",
            "(Iteration 141 / 200) loss: 1.518240\n",
            "(Iteration 151 / 200) loss: 1.369643\n",
            "(Epoch 4 / 5) train acc: 0.505000; val_acc: 0.360000\n",
            "(Iteration 161 / 200) loss: 1.390561\n",
            "(Iteration 171 / 200) loss: 1.336127\n",
            "(Iteration 181 / 200) loss: 1.509280\n",
            "(Iteration 191 / 200) loss: 1.481066\n",
            "(Epoch 5 / 5) train acc: 0.549000; val_acc: 0.373000\n"
          ],
          "name": "stdout"
        },
        {
          "output_type": "stream",
          "text": [
            "/usr/local/lib/python3.6/dist-packages/ipykernel_launcher.py:32: MatplotlibDeprecationWarning: Adding an axes using the same arguments as a previous axes currently reuses the earlier instance.  In a future version, a new instance will always be created and returned.  Meanwhile, this warning can be suppressed, and the future behavior ensured, by passing a unique label to each axes instance.\n",
            "/usr/local/lib/python3.6/dist-packages/ipykernel_launcher.py:35: MatplotlibDeprecationWarning: Adding an axes using the same arguments as a previous axes currently reuses the earlier instance.  In a future version, a new instance will always be created and returned.  Meanwhile, this warning can be suppressed, and the future behavior ensured, by passing a unique label to each axes instance.\n",
            "/usr/local/lib/python3.6/dist-packages/ipykernel_launcher.py:38: MatplotlibDeprecationWarning: Adding an axes using the same arguments as a previous axes currently reuses the earlier instance.  In a future version, a new instance will always be created and returned.  Meanwhile, this warning can be suppressed, and the future behavior ensured, by passing a unique label to each axes instance.\n",
            "/usr/local/lib/python3.6/dist-packages/ipykernel_launcher.py:42: MatplotlibDeprecationWarning: Adding an axes using the same arguments as a previous axes currently reuses the earlier instance.  In a future version, a new instance will always be created and returned.  Meanwhile, this warning can be suppressed, and the future behavior ensured, by passing a unique label to each axes instance.\n"
          ],
          "name": "stderr"
        },
        {
          "output_type": "display_data",
          "data": {
            "image/png": "[encoded data removed]",
            "text/plain": [
              "<Figure size 1080x1080 with 3 Axes>"
            ]
          },
          "metadata": {
            "tags": [],
            "needs_background": "light"
          }
        }
      ]
    },
    {
      "cell_type": "markdown",
      "metadata": {
        "id": "OR-bSG645il6"
      },
      "source": [
        "# Train a good model!\n",
        "Train the best fully-connected model that you can on CIFAR-10, storing your best model in the `best_model` variable and the solver used in the `best_solver` variable. We require you to get at least 50% accuracy on the validation set using a fully-connected net.\n",
        "\n",
        "If you are careful it should be possible to get accuracies above 55%, but we don't require it for this part and won't assign extra credit for doing so. Later in the assignment we will ask you to train the best convolutional network that you can on CIFAR-10, and we would prefer that you spend your effort working on convolutional nets rather than fully-connected nets.\n",
        "\n",
        "You might find it useful to complete the `BatchNormalization.ipynb` and `Dropout.ipynb` notebooks before completing this part, since those techniques can help you train powerful models."
      ]
    },
    {
      "cell_type": "code",
      "metadata": {
        "collapsed": true,
        "id": "kY4g70Ob5il6",
        "scrolled": false,
        "colab": {
          "base_uri": "https://localhost:8080/"
        },
        "outputId": "6a2d76b0-35e3-4fa6-d4d1-b1e343a4572b"
      },
      "source": [
        "best_model = None\n",
        "best_solver = None\n",
        "################################################################################\n",
        "# TODO: Train the best FullyConnectedNet that you can on CIFAR-10. You might   #\n",
        "# find batch normalization and dropout useful. Store your best model in the    #\n",
        "# best_model variable and the solver used to train it in the best_solver       #\n",
        "# variable.                                                                    #\n",
        "################################################################################\n",
        "\n",
        "learning_rate = 1e-2\n",
        "weight_scale = 1e-2\n",
        "\n",
        "best_model = FullyConnectedNet([100, 100, 100, 100],\n",
        "                weight_scale=weight_scale, dtype=np.float64)\n",
        "\n",
        "best_solver = Solver(best_model, data,\n",
        "                print_every=100, num_epochs=20, batch_size=100,\n",
        "                update_rule='sgd_momentum',\n",
        "                optim_config={\n",
        "                  'learning_rate': learning_rate,\n",
        "                },\n",
        "                lr_decay=0.95\n",
        "         )\n",
        "best_solver.train()\n",
        "\n",
        "pass\n",
        "################################################################################\n",
        "#                              END OF YOUR CODE                                #\n",
        "################################################################################"
      ],
      "execution_count": 33,
      "outputs": [
        {
          "output_type": "stream",
          "text": [
            "(Iteration 1 / 9800) loss: 2.302489\n",
            "(Epoch 0 / 20) train acc: 0.096000; val_acc: 0.086000\n",
            "(Iteration 101 / 9800) loss: 2.301109\n",
            "(Iteration 201 / 9800) loss: 2.122293\n",
            "(Iteration 301 / 9800) loss: 1.928573\n",
            "(Iteration 401 / 9800) loss: 1.828887\n",
            "(Epoch 1 / 20) train acc: 0.358000; val_acc: 0.367000\n",
            "(Iteration 501 / 9800) loss: 1.751727\n",
            "(Iteration 601 / 9800) loss: 1.631953\n",
            "(Iteration 701 / 9800) loss: 1.801914\n",
            "(Iteration 801 / 9800) loss: 1.546746\n",
            "(Iteration 901 / 9800) loss: 1.571474\n",
            "(Epoch 2 / 20) train acc: 0.445000; val_acc: 0.458000\n",
            "(Iteration 1001 / 9800) loss: 1.526024\n",
            "(Iteration 1101 / 9800) loss: 1.426221\n",
            "(Iteration 1201 / 9800) loss: 1.536102\n",
            "(Iteration 1301 / 9800) loss: 1.412700\n",
            "(Iteration 1401 / 9800) loss: 1.596670\n",
            "(Epoch 3 / 20) train acc: 0.466000; val_acc: 0.470000\n",
            "(Iteration 1501 / 9800) loss: 1.464958\n",
            "(Iteration 1601 / 9800) loss: 1.488680\n",
            "(Iteration 1701 / 9800) loss: 1.165642\n",
            "(Iteration 1801 / 9800) loss: 1.408404\n",
            "(Iteration 1901 / 9800) loss: 1.521515\n",
            "(Epoch 4 / 20) train acc: 0.508000; val_acc: 0.480000\n",
            "(Iteration 2001 / 9800) loss: 1.408360\n",
            "(Iteration 2101 / 9800) loss: 1.448569\n",
            "(Iteration 2201 / 9800) loss: 1.316697\n",
            "(Iteration 2301 / 9800) loss: 1.302000\n",
            "(Iteration 2401 / 9800) loss: 1.436941\n",
            "(Epoch 5 / 20) train acc: 0.527000; val_acc: 0.489000\n",
            "(Iteration 2501 / 9800) loss: 1.386519\n",
            "(Iteration 2601 / 9800) loss: 1.145684\n",
            "(Iteration 2701 / 9800) loss: 1.363494\n",
            "(Iteration 2801 / 9800) loss: 1.340093\n",
            "(Iteration 2901 / 9800) loss: 1.220014\n",
            "(Epoch 6 / 20) train acc: 0.542000; val_acc: 0.495000\n",
            "(Iteration 3001 / 9800) loss: 1.262953\n",
            "(Iteration 3101 / 9800) loss: 0.965280\n",
            "(Iteration 3201 / 9800) loss: 1.071591\n",
            "(Iteration 3301 / 9800) loss: 1.364719\n",
            "(Iteration 3401 / 9800) loss: 1.306862\n",
            "(Epoch 7 / 20) train acc: 0.547000; val_acc: 0.489000\n",
            "(Iteration 3501 / 9800) loss: 1.226017\n",
            "(Iteration 3601 / 9800) loss: 1.267822\n",
            "(Iteration 3701 / 9800) loss: 1.414605\n",
            "(Iteration 3801 / 9800) loss: 1.238150\n",
            "(Iteration 3901 / 9800) loss: 1.101249\n",
            "(Epoch 8 / 20) train acc: 0.576000; val_acc: 0.510000\n",
            "(Iteration 4001 / 9800) loss: 1.437553\n",
            "(Iteration 4101 / 9800) loss: 1.346234\n",
            "(Iteration 4201 / 9800) loss: 1.012299\n",
            "(Iteration 4301 / 9800) loss: 1.094201\n",
            "(Iteration 4401 / 9800) loss: 1.007841\n",
            "(Epoch 9 / 20) train acc: 0.598000; val_acc: 0.495000\n",
            "(Iteration 4501 / 9800) loss: 1.066851\n",
            "(Iteration 4601 / 9800) loss: 1.105882\n",
            "(Iteration 4701 / 9800) loss: 1.021621\n",
            "(Iteration 4801 / 9800) loss: 1.007609\n",
            "(Epoch 10 / 20) train acc: 0.607000; val_acc: 0.523000\n",
            "(Iteration 4901 / 9800) loss: 1.154543\n",
            "(Iteration 5001 / 9800) loss: 1.113011\n",
            "(Iteration 5101 / 9800) loss: 1.240159\n",
            "(Iteration 5201 / 9800) loss: 1.287115\n",
            "(Iteration 5301 / 9800) loss: 1.175653\n",
            "(Epoch 11 / 20) train acc: 0.581000; val_acc: 0.499000\n",
            "(Iteration 5401 / 9800) loss: 1.109019\n",
            "(Iteration 5501 / 9800) loss: 1.028664\n",
            "(Iteration 5601 / 9800) loss: 1.060183\n",
            "(Iteration 5701 / 9800) loss: 1.067063\n",
            "(Iteration 5801 / 9800) loss: 1.314355\n",
            "(Epoch 12 / 20) train acc: 0.565000; val_acc: 0.491000\n",
            "(Iteration 5901 / 9800) loss: 1.061553\n",
            "(Iteration 6001 / 9800) loss: 1.118301\n",
            "(Iteration 6101 / 9800) loss: 1.140326\n",
            "(Iteration 6201 / 9800) loss: 1.039696\n",
            "(Iteration 6301 / 9800) loss: 0.954286\n",
            "(Epoch 13 / 20) train acc: 0.616000; val_acc: 0.504000\n",
            "(Iteration 6401 / 9800) loss: 1.135105\n",
            "(Iteration 6501 / 9800) loss: 0.956159\n",
            "(Iteration 6601 / 9800) loss: 0.825906\n",
            "(Iteration 6701 / 9800) loss: 1.021736\n",
            "(Iteration 6801 / 9800) loss: 1.043996\n",
            "(Epoch 14 / 20) train acc: 0.632000; val_acc: 0.492000\n",
            "(Iteration 6901 / 9800) loss: 1.014905\n",
            "(Iteration 7001 / 9800) loss: 1.017758\n",
            "(Iteration 7101 / 9800) loss: 1.120477\n",
            "(Iteration 7201 / 9800) loss: 1.061288\n",
            "(Iteration 7301 / 9800) loss: 1.024602\n",
            "(Epoch 15 / 20) train acc: 0.636000; val_acc: 0.516000\n",
            "(Iteration 7401 / 9800) loss: 1.146394\n",
            "(Iteration 7501 / 9800) loss: 0.984737\n",
            "(Iteration 7601 / 9800) loss: 0.965884\n",
            "(Iteration 7701 / 9800) loss: 0.999534\n",
            "(Iteration 7801 / 9800) loss: 0.861298\n",
            "(Epoch 16 / 20) train acc: 0.674000; val_acc: 0.531000\n",
            "(Iteration 7901 / 9800) loss: 1.098474\n",
            "(Iteration 8001 / 9800) loss: 1.002465\n",
            "(Iteration 8101 / 9800) loss: 0.910751\n",
            "(Iteration 8201 / 9800) loss: 0.901604\n",
            "(Iteration 8301 / 9800) loss: 1.036605\n",
            "(Epoch 17 / 20) train acc: 0.659000; val_acc: 0.536000\n",
            "(Iteration 8401 / 9800) loss: 0.800792\n",
            "(Iteration 8501 / 9800) loss: 0.892647\n",
            "(Iteration 8601 / 9800) loss: 0.813444\n",
            "(Iteration 8701 / 9800) loss: 0.908788\n",
            "(Iteration 8801 / 9800) loss: 1.057688\n",
            "(Epoch 18 / 20) train acc: 0.656000; val_acc: 0.520000\n",
            "(Iteration 8901 / 9800) loss: 0.899667\n",
            "(Iteration 9001 / 9800) loss: 0.854369\n",
            "(Iteration 9101 / 9800) loss: 1.071548\n",
            "(Iteration 9201 / 9800) loss: 0.898949\n",
            "(Iteration 9301 / 9800) loss: 0.962566\n",
            "(Epoch 19 / 20) train acc: 0.689000; val_acc: 0.532000\n",
            "(Iteration 9401 / 9800) loss: 0.837328\n",
            "(Iteration 9501 / 9800) loss: 0.976099\n",
            "(Iteration 9601 / 9800) loss: 0.725521\n",
            "(Iteration 9701 / 9800) loss: 0.950668\n",
            "(Epoch 20 / 20) train acc: 0.680000; val_acc: 0.513000\n"
          ],
          "name": "stdout"
        }
      ]
    },
    {
      "cell_type": "markdown",
      "metadata": {
        "id": "LFbCssFy5il7"
      },
      "source": [
        "# Test your model\n",
        "Run your best model on the validation and test sets and record the training logs of the best solver. You should achieve above 50% accuracy on the validation set."
      ]
    },
    {
      "cell_type": "code",
      "metadata": {
        "collapsed": true,
        "id": "m7xdA_Wl5il7",
        "colab": {
          "base_uri": "https://localhost:8080/"
        },
        "outputId": "36e28911-e436-4976-f2c4-05518b2b4fdd"
      },
      "source": [
        "y_test_pred = np.argmax(best_model.loss(data['X_test']), axis=1)\n",
        "y_val_pred = np.argmax(best_model.loss(data['X_val']), axis=1)\n",
        "val_acc = (y_val_pred == data['y_val']).mean()\n",
        "test_acc = (y_test_pred == data['y_test']).mean()\n",
        "print ('Validation set accuracy: ', val_acc)\n",
        "print ('Test set accuracy: ', test_acc)\n",
        "###best_solver.record_histories_as_npz('submission_logs/best_fc_model.npz')\n",
        "best_solver.record_histories_as_npz('/content/drive/My Drive/assignment1/submission_logs/best_fc_model.npz')"
      ],
      "execution_count": 34,
      "outputs": [
        {
          "output_type": "stream",
          "text": [
            "Validation set accuracy:  0.536\n",
            "Test set accuracy:  0.484\n"
          ],
          "name": "stdout"
        }
      ]
    },
    {
      "cell_type": "code",
      "metadata": {
        "collapsed": true,
        "id": "I3fldHGY5il7"
      },
      "source": [
        ""
      ],
      "execution_count": null,
      "outputs": []
    }
  ]
}